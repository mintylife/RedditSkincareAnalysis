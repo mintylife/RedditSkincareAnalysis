{
 "cells": [
  {
   "cell_type": "code",
   "execution_count": 279,
   "metadata": {},
   "outputs": [],
   "source": [
    "#Selenium imports here\n",
    "from selenium import webdriver\n",
    "from selenium.webdriver.common.keys import Keys\n",
    "from selenium.webdriver.support import expected_conditions as EC\n",
    "from selenium.webdriver.common.by import By\n",
    "from selenium.webdriver.support.wait import WebDriverWait\n",
    "from selenium.webdriver.common.action_chains import ActionChains\n",
    "\n",
    "\n",
    "#Other imports\n",
    "import os\n",
    "import wget\n",
    "import time\n",
    "import re\n",
    "from pprint import pprint"
   ]
  },
  {
   "cell_type": "markdown",
   "metadata": {},
   "source": [
    "# 0. Preprocessing"
   ]
  },
  {
   "cell_type": "markdown",
   "metadata": {},
   "source": [
    "## 0.1 Definitons"
   ]
  },
  {
   "cell_type": "code",
   "execution_count": 246,
   "metadata": {},
   "outputs": [],
   "source": [
    "class Product:\n",
    "    def __init__(this, name, brand, price=0 , \n",
    "               rating=None,reviews_num=None, loves=None, \n",
    "               skin_type=None, concerns=None, \n",
    "               all_ingredients=None, highlighted_ingredients=None,\n",
    "               eco_info=None,\n",
    "               usage=None):\n",
    "        this.__name = name\n",
    "        this.__brand = brand\n",
    "        this.__price = price\n",
    "        this.__rating = rating\n",
    "        this.__reviews_num = reviews_num\n",
    "        this.__loves = loves\n",
    "        this.__skin_type = skin_type\n",
    "        this.__concerns = concerns\n",
    "        this.__all_ingredients = all_ingredients\n",
    "        this.__highlighted_ingredients = highlighted_ingredients\n",
    "        this.__eco_info = eco_info\n",
    "        this.__usage = usage\n",
    "\n",
    "    def __str__(self):  \n",
    "        return \"Product Description: \\n  name = % s,\\n  brand = % s\" % (self.__name, self.__brand)\n",
    "\n",
    "    \n",
    "    # getters\n",
    "    def get_name(self):\n",
    "        return self.__name\n",
    "\n",
    "    def get_brand(self):\n",
    "        return self.__brand\n",
    "\n",
    "    def get_price(self):\n",
    "        return self.__price\n",
    "\n",
    "    def get_rating(self):\n",
    "        return self.__rating\n",
    "    \n",
    "    def get_reviews_num(self):\n",
    "        return self.__reviews_num\n",
    "\n",
    "    def get_loves(self):\n",
    "        return self.__loves\n",
    "\n",
    "    def get_skin_type(self):\n",
    "        return self.__skin_type\n",
    "\n",
    "    def get_concerns(self):\n",
    "        return self.__concerns\n",
    "\n",
    "    def get_ingredients(self, all_of_them = True):\n",
    "        return self.__all_ingredients if all_of_them else self.__highlighted_ingredients\n",
    "\n",
    "    def get_eco_info(self):\n",
    "        return self.__eco_info\n",
    "\n",
    "    def get_usage(self):\n",
    "        return self.__usage\n",
    "    \n",
    "    \n",
    "    # setters\n",
    "    def set_name(self, name):\n",
    "        self.__name = name\n",
    "\n",
    "    def set_brand(self, brand):\n",
    "        self.__brand = brand\n",
    "\n",
    "    def set_price(self, price):\n",
    "        self.__price = price\n",
    "\n",
    "    def set_rating(self, rating):\n",
    "        self.__rating = rating\n",
    "    \n",
    "    def set_reviews_num(self, reviews_num):\n",
    "        self.__reviews_num = reviews_num\n",
    "\n",
    "    def set_loves(self, loves):\n",
    "        self.__loves = loves\n",
    "\n",
    "    def set_skin_type(self, skin_type):\n",
    "        self.__skin_type = skin_type\n",
    "\n",
    "    def set_concerns(self, concerns):\n",
    "        self.__concerns = concerns\n",
    "\n",
    "    def set_ingredients(self, ingredients, all_of_them = True):\n",
    "        if all_of_them: \n",
    "            self.__all_ingredients = ingredients\n",
    "        else:\n",
    "            self.__highlighted_ingredients = ingredients\n",
    "\n",
    "    def set_eco_info(self, eco_info):\n",
    "        self.__eco_info = eco_info\n",
    "\n",
    "    def set_usage(self, usage):\n",
    "        self.__usage = usage"
   ]
  },
  {
   "cell_type": "code",
   "execution_count": 247,
   "metadata": {},
   "outputs": [],
   "source": [
    "# # doesn't work for float numbers in a string \n",
    "# def extract_number(string):\n",
    "#     number = ''\n",
    "#     for char in string:\n",
    "#         if char.isdigit():\n",
    "#             number+=(char)\n",
    "#     return float(number)\n",
    "\n",
    "def parse_number(string):\n",
    "    m = re.search(r\"(\\d+\\.?\\d*)\", string)\n",
    "    return m.group() if m else None"
   ]
  },
  {
   "cell_type": "code",
   "execution_count": 248,
   "metadata": {},
   "outputs": [],
   "source": [
    "def extract_highlights(highlights):\n",
    "    start = 'Good for:'\n",
    "    end = '\\n'\n",
    "\n",
    "    result = re.findall('%s(.*)%s' % (start, end), highlights)\n",
    "    return result"
   ]
  },
  {
   "cell_type": "code",
   "execution_count": 249,
   "metadata": {},
   "outputs": [],
   "source": [
    "def extract_skin_type(about):\n",
    "    start = 'Skin Type: '\n",
    "    end = '\\n'\n",
    "    \n",
    "    result = re.findall('%s(.*)%s' % (start, end), about)[0]\n",
    "    result = (result.replace(' and ', ',')).split(',')\n",
    "    skin_types = list(filter(None, result))\n",
    "    skin_types = [st.strip() for st in skin_types]\n",
    "    return skin_types"
   ]
  },
  {
   "cell_type": "code",
   "execution_count": 250,
   "metadata": {},
   "outputs": [],
   "source": [
    "# this doesn't work properly, works from the second attempt... is the problem with\n",
    "# clickling/not clicking on the show more button\n",
    "def extract_eco_info(about):\n",
    "    global recyclable_packaging, cruelty_free, vegan, no_parabens\n",
    "    start = 'Ingredient Callouts: '\n",
    "    end = '\\n'\n",
    "    \n",
    "    try:\n",
    "        xpath_show_more = '/html/body/div[1]/div[2]/div/main/div/div[5]/div[2]/button'\n",
    "        show_more_btn = driver.find_element_by_xpath(xpath_show_more)\n",
    "        show_more_btn.click()\n",
    "        result = (re.findall('%s(.*)%s' % (start, end), about)[0]).lower()\n",
    "    except:\n",
    "        result = (re.findall('%s(.*)%s' % (start, end), about)[0]).lower()\n",
    "    \n",
    "    if 'recyclable' in result:\n",
    "        recyclable_packaging = True\n",
    "    \n",
    "    if 'vegan' in result:\n",
    "        vegan = True \n",
    "        \n",
    "    if 'cruelty-free' in result:\n",
    "        cruelty_free = True\n",
    "    \n",
    "    if 'parabens' in result:\n",
    "        no_parabens = True\n",
    "        \n",
    "    return {'vegan': vegan,\n",
    "          'cruelty_free': cruelty_free,\n",
    "          'recyclable_packaging': recyclable_packaging, \n",
    "          'no_parabens': no_parabens}"
   ]
  },
  {
   "cell_type": "code",
   "execution_count": 251,
   "metadata": {},
   "outputs": [],
   "source": [
    "# get all ingredients and high ingredients\n",
    "def get_ingredients():\n",
    "    highlighted_ingredients = []\n",
    "    all_ingredients = []\n",
    "    conversational_words = ['are','is', 'in', 'with', 'to', 'please', 'must',  'be']\n",
    "    conversational_words = list(map(lambda x: ' ' + x + ' ', conversational_words))\n",
    "    \n",
    "    xpath_button = '/html/body/div[1]/div[2]/div/main/div/button[1]'\n",
    "    xpath_descr = '//*[@id=\"ingredients\"]/div/div'\n",
    "    \n",
    "    ingredients_button = driver.find_element_by_xpath(xpath_button)\n",
    "    ingredients_button.click()\n",
    "    \n",
    "    description = driver.find_element_by_xpath(xpath_descr).text\n",
    "    description = description.split('\\n\\n')\n",
    "    \n",
    "    for paragraph in description: \n",
    "        if paragraph[0] == '-':\n",
    "            start = '-'\n",
    "            end = ':'\n",
    "            highlighted_ingredients = re.findall('%s(.*)%s' % (start,end), paragraph)\n",
    "        elif not(any(word in paragraph for word in conversational_words)):\n",
    "            print(paragraph)\n",
    "            print('')\n",
    "            all_ingredients = (paragraph.split(', ')).copy()\n",
    "            #remove dot at the end of the converted to list of ingredients paragraph\n",
    "            if all_ingredients[-1][-1] == '.':\n",
    "                all_ingredients[-1] = all_ingredients[-1][:-1]\n",
    "                 \n",
    "    return (all_ingredients, highlighted_ingredients)"
   ]
  },
  {
   "cell_type": "code",
   "execution_count": 252,
   "metadata": {},
   "outputs": [],
   "source": [
    "def get_usage_schedule():\n",
    "    use_daily = False\n",
    "    usage = {\n",
    "        'morning': False,\n",
    "        'night': False\n",
    "        }\n",
    "    \n",
    "    xpath_button = '/html/body/div[1]/div[2]/div/main/div/button[2]'\n",
    "    xpath_descr = '//*[@id=\"howtouse\"]/div/div'\n",
    "    \n",
    "    how_to_use = driver.find_element_by_xpath(xpath_button)\n",
    "    how_to_use.click()\n",
    "    \n",
    "    usage_schedule = driver.find_element_by_xpath(xpath_descr).text.lower()\n",
    "    usage_schedule = usage_schedule.split('\\n\\n')\n",
    "    \n",
    "    for paragraph in usage_schedule: \n",
    "        if 'suggested usage' in paragraph:\n",
    "            if 'daily' in paragraph:\n",
    "                use_daily = True\n",
    "            if 'morning' in paragraph:\n",
    "                usage['morning'] = True \n",
    "            if 'night' in paragraph:\n",
    "                usage['night'] = True\n",
    "            if 'twice a day' in paragraph: \n",
    "                usage['morning'] = True \n",
    "                usage['night'] = True\n",
    "    return (use_daily, usage)"
   ]
  },
  {
   "cell_type": "markdown",
   "metadata": {},
   "source": [
    "## 0.2 Setting up the browser's driver"
   ]
  },
  {
   "cell_type": "code",
   "execution_count": 253,
   "metadata": {},
   "outputs": [],
   "source": [
    "# connect the webdriver to our notebook\n",
    "chrome_path = \"/Users/balapan/Downloads/chromedriver\"\n",
    "driver = webdriver.Chrome(executable_path = chrome_path)\n",
    "\n",
    "# get and open the needed webpage \n",
    "driver.get(\"https://www.sephora.com/\")"
   ]
  },
  {
   "cell_type": "markdown",
   "metadata": {},
   "source": [
    "## 0.3 Navigation to the targeted page - All Skincare "
   ]
  },
  {
   "cell_type": "code",
   "execution_count": 254,
   "metadata": {},
   "outputs": [],
   "source": [
    "# sephora's website layout of the navigation bar changes depending on the size of the window\n",
    "try:\n",
    "    # if in the full screen mode\n",
    "    skincare = WebDriverWait(driver,10).until(EC.element_to_be_clickable((By.CSS_SELECTOR, \"a[id = 'top_nav_drop_3_trigger']\"))).click()\n",
    "    all_skincare = driver.find_element_by_xpath('//*[@id=\"top_nav_drop_3_trigger\"]')\n",
    "    all_skincare.click()\n",
    "except:\n",
    "    # if the screen is small\n",
    "    time.sleep(5)\n",
    "    xpath = \"/html/body/div[1]/div[1]/header/div[3]/div/a[4]\"\n",
    "    all_skincare = driver.find_element_by_xpath(xpath)\n",
    "    all_skincare.click()\n",
    "# finally:\n",
    "#     all_skincare.click()"
   ]
  },
  {
   "cell_type": "code",
   "execution_count": 255,
   "metadata": {},
   "outputs": [],
   "source": [
    "# close the sign in page by clicking on the cross sign\n",
    "cross = WebDriverWait(driver,10).until(EC.element_to_be_clickable((By.CSS_SELECTOR, \"button[aria-label = 'Continue shopping']\"))).click()\n"
   ]
  },
  {
   "cell_type": "markdown",
   "metadata": {},
   "source": [
    "## 0.4 Getting necessary subpages "
   ]
  },
  {
   "cell_type": "code",
   "execution_count": 256,
   "metadata": {},
   "outputs": [
    {
     "data": {
      "text/plain": [
       "['Moisturizers',\n",
       " 'Cleansers',\n",
       " 'Treatments',\n",
       " 'Eye Care',\n",
       " 'Masks',\n",
       " 'Sun Care',\n",
       " 'Lip Treatments']"
      ]
     },
     "execution_count": 256,
     "metadata": {},
     "output_type": "execute_result"
    }
   ],
   "source": [
    "# choose only the skincare categories that we are interested in \n",
    "tickers = ['Moisturizers', 'Cleansers', 'Treatments', 'Eye Care', 'Masks', 'Sun Care', 'Lip Treatments']\n",
    "\n",
    "# for testing purposes, shorten the list\n",
    "# tickers = tickers[:1]\n",
    "tickers"
   ]
  },
  {
   "cell_type": "code",
   "execution_count": 257,
   "metadata": {},
   "outputs": [
    {
     "data": {
      "text/plain": [
       "['Just Arrived',\n",
       " 'Value & Gift Sets',\n",
       " 'Mini Size',\n",
       " 'Clean Skincare',\n",
       " 'Shop by Concern',\n",
       " 'Moisturizers',\n",
       " 'Cleansers',\n",
       " 'Treatments',\n",
       " 'Wellness',\n",
       " 'Eye Care',\n",
       " 'Masks',\n",
       " 'High Tech Tools',\n",
       " 'Sun Care',\n",
       " 'Self Tanners',\n",
       " 'Lip Treatments',\n",
       " 'Vegan Skincare']"
      ]
     },
     "execution_count": 257,
     "metadata": {},
     "output_type": "execute_result"
    }
   ],
   "source": [
    "# all categories we are interested in are in the same css class\n",
    "# use the class name to locate and save the class objects\n",
    "category_class = \"css-10wlsyd.e65zztl0\"\n",
    "class_objects = driver.find_elements_by_class_name(category_class)\n",
    "\n",
    "# check that we collected the right headers\n",
    "class_text = [c.text for c in class_objects]\n",
    "class_text"
   ]
  },
  {
   "cell_type": "code",
   "execution_count": 258,
   "metadata": {},
   "outputs": [
    {
     "name": "stdout",
     "output_type": "stream",
     "text": [
      "Moisturizers\n",
      "Cleansers\n",
      "Treatments\n",
      "Eye Care\n",
      "Masks\n",
      "Sun Care\n",
      "Lip Treatments\n"
     ]
    }
   ],
   "source": [
    "# only choose the ones that we are interested in \n",
    "categories = [x for x in class_objects if x.text in tickers]\n",
    "links = []\n",
    "\n",
    "# check their names and compare to the tickers list\n",
    "for m in categories:\n",
    "    print(m.text)"
   ]
  },
  {
   "cell_type": "markdown",
   "metadata": {},
   "source": [
    "# 1. Website Scraping"
   ]
  },
  {
   "cell_type": "markdown",
   "metadata": {},
   "source": [
    " ## category by category, product by product"
   ]
  },
  {
   "cell_type": "code",
   "execution_count": 261,
   "metadata": {},
   "outputs": [],
   "source": [
    "# показ уведомлений хрома сбивает работу"
   ]
  },
  {
   "cell_type": "code",
   "execution_count": 262,
   "metadata": {},
   "outputs": [],
   "source": [
    "categories[0].click()"
   ]
  },
  {
   "cell_type": "code",
   "execution_count": 263,
   "metadata": {},
   "outputs": [
    {
     "data": {
      "text/plain": [
       "[<selenium.webdriver.remote.webelement.WebElement (session=\"58002439136069ec1ca0844434522b45\", element=\"aace59de-3f79-43fe-801d-832fc3891bee\")>,\n",
       " <selenium.webdriver.remote.webelement.WebElement (session=\"58002439136069ec1ca0844434522b45\", element=\"eadd0205-f45c-4c48-871b-126718660fd1\")>,\n",
       " <selenium.webdriver.remote.webelement.WebElement (session=\"58002439136069ec1ca0844434522b45\", element=\"f22eb762-75ca-436e-8023-816b19dd5f4e\")>,\n",
       " <selenium.webdriver.remote.webelement.WebElement (session=\"58002439136069ec1ca0844434522b45\", element=\"bde82ecb-9b59-41b7-8c31-b7111c0393b3\")>,\n",
       " <selenium.webdriver.remote.webelement.WebElement (session=\"58002439136069ec1ca0844434522b45\", element=\"f6dc1adc-348c-4944-8ef7-006aa30296ef\")>,\n",
       " <selenium.webdriver.remote.webelement.WebElement (session=\"58002439136069ec1ca0844434522b45\", element=\"9b724662-17b2-4143-bbc1-801a30bc158d\")>,\n",
       " <selenium.webdriver.remote.webelement.WebElement (session=\"58002439136069ec1ca0844434522b45\", element=\"4dee4476-ad15-46fa-8d44-0404a4e1dd2c\")>,\n",
       " <selenium.webdriver.remote.webelement.WebElement (session=\"58002439136069ec1ca0844434522b45\", element=\"50dc02a5-e90f-480c-b7fe-20d2910a3404\")>,\n",
       " <selenium.webdriver.remote.webelement.WebElement (session=\"58002439136069ec1ca0844434522b45\", element=\"1e85c1c7-0b77-4d23-aada-adc7a4df6012\")>,\n",
       " <selenium.webdriver.remote.webelement.WebElement (session=\"58002439136069ec1ca0844434522b45\", element=\"b1c87c1a-5b62-486d-8ff9-c3a29cf906d7\")>,\n",
       " <selenium.webdriver.remote.webelement.WebElement (session=\"58002439136069ec1ca0844434522b45\", element=\"76274215-5441-46c4-b070-0f6d38bf77fa\")>,\n",
       " <selenium.webdriver.remote.webelement.WebElement (session=\"58002439136069ec1ca0844434522b45\", element=\"f96a82aa-c942-4129-aa58-d5ce0286fb2f\")>]"
      ]
     },
     "execution_count": 263,
     "metadata": {},
     "output_type": "execute_result"
    }
   ],
   "source": [
    "# collect some products on the page\n",
    "image_class = \"css-1rovmyu.e65zztl0\"\n",
    "\n",
    "# products = [x for x in products if x.text in tickers]\n",
    "# links = []\n",
    "\n",
    "products = driver.find_elements_by_class_name(image_class)\n",
    "products"
   ]
  },
  {
   "cell_type": "code",
   "execution_count": 264,
   "metadata": {},
   "outputs": [
    {
     "data": {
      "text/plain": [
       "12"
      ]
     },
     "execution_count": 264,
     "metadata": {},
     "output_type": "execute_result"
    }
   ],
   "source": [
    "len(products)"
   ]
  },
  {
   "cell_type": "code",
   "execution_count": 265,
   "metadata": {},
   "outputs": [],
   "source": [
    "products[0].click()"
   ]
  },
  {
   "cell_type": "code",
   "execution_count": 266,
   "metadata": {},
   "outputs": [
    {
     "name": "stdout",
     "output_type": "stream",
     "text": [
      "Protini™ Polypeptide Moisturizer Drunk Elephant 68.00 307\n"
     ]
    }
   ],
   "source": [
    "# get name, price and number of loves for a product\n",
    "# css_name = 'span.css-57kn72'\n",
    "# css_price = 'span[data-at=\"price\"]'\n",
    "# css_loves = 'span[data-at=\"product_love_count\"]'\n",
    "\n",
    "css_name  = 'span.css-1pgnl76.css-1pgnl76'\n",
    "css_brand = 'a.css-nc375s.e65zztl0'\n",
    "css_price = 'span.css-1lzahen'\n",
    "css_loves = 'span.css-jk94q9'\n",
    "\n",
    "name  = driver.find_element_by_css_selector(css_name).text\n",
    "brand = driver.find_element_by_css_selector(css_brand).text\n",
    "price = driver.find_element_by_css_selector(css_price).text\n",
    "loves = driver.find_element_by_css_selector(css_loves).text\n",
    "\n",
    "price = parse_number(price)\n",
    "loves = parse_number(loves)\n",
    "\n",
    "print(name, brand, price, loves)"
   ]
  },
  {
   "cell_type": "code",
   "execution_count": 267,
   "metadata": {},
   "outputs": [],
   "source": [
    "item = []\n",
    "\n",
    "item.append(Product(name, brand, price, loves=loves))"
   ]
  },
  {
   "cell_type": "code",
   "execution_count": 268,
   "metadata": {},
   "outputs": [
    {
     "name": "stdout",
     "output_type": "stream",
     "text": [
      "4.0 5246.0\n"
     ]
    }
   ],
   "source": [
    "# get the overall rating/score \n",
    "css_rating = '//*[@id=\"ratings-reviews-container\"]/div[2]/div[2]/div[1]/div/div[2]/div/span'\n",
    "total_score = float(driver.find_element_by_xpath(css_rating).text)\n",
    "\n",
    "# get total number of reviews \n",
    "css_review_count = '//*[@id=\"ratings-reviews-container\"]/div[2]/div[2]/div[1]/div/div[2]/span'\n",
    "total_reviews_count = driver.find_element_by_xpath(css_review_count).text\n",
    "total_reviews_count = extract_number(total_reviews_count)\n",
    "\n",
    "\n",
    "print(total_score, total_reviews_count)\n",
    "item[0].set_rating(total_score)\n",
    "item[0].set_reviews_num(total_reviews_count)"
   ]
  },
  {
   "cell_type": "code",
   "execution_count": 269,
   "metadata": {},
   "outputs": [
    {
     "data": {
      "text/plain": [
       "[' Loss of firmness', ' Dullness/Uneven Texture', ' Anti-Aging', ' Dryness']"
      ]
     },
     "execution_count": 269,
     "metadata": {},
     "output_type": "execute_result"
    }
   ],
   "source": [
    "# get highlights - info from the good for section\n",
    "good_for = []\n",
    "css_highlights = '/html/body/div[1]/div[2]/div/main/div/div[3]'\n",
    "highlights = driver.find_element_by_xpath(css_highlights).text\n",
    "\n",
    "good_for = extract_highlights(highlights)\n",
    "good_for\n",
    "\n",
    "item[0].set_concerns(good_for)\n",
    "item[0].get_concerns()"
   ]
  },
  {
   "cell_type": "code",
   "execution_count": 270,
   "metadata": {},
   "outputs": [
    {
     "data": {
      "text/plain": [
       "['Normal', 'Dry', 'Combination', 'Oily']"
      ]
     },
     "execution_count": 270,
     "metadata": {},
     "output_type": "execute_result"
    }
   ],
   "source": [
    "css_about_product = '/html/body/div[1]/div[2]/div/main/div/div[5]/div[2]/div'\n",
    "about_product = driver.find_element_by_xpath(css_about_product).text\n",
    "\n",
    "skin_types = extract_skin_type(about_product)\n",
    "skin_types\n",
    "\n",
    "item[0].set_skin_type(skin_types)\n",
    "item[0].get_skin_type()"
   ]
  },
  {
   "cell_type": "code",
   "execution_count": 274,
   "metadata": {},
   "outputs": [
    {
     "data": {
      "text/plain": [
       "{'vegan': True,\n",
       " 'cruelty_free': True,\n",
       " 'recyclable_packaging': False,\n",
       " 'no_parabens': False}"
      ]
     },
     "execution_count": 274,
     "metadata": {},
     "output_type": "execute_result"
    }
   ],
   "source": [
    "vegan = False\n",
    "cruelty_free = False\n",
    "recyclable_packaging = False\n",
    "no_parabens = False\n",
    "\n",
    "# for some reason need to assign about_product again as it changes \n",
    "css_about_product = '/html/body/div[1]/div[2]/div/main/div/div[5]/div[2]/div'\n",
    "about_product = driver.find_element_by_xpath(css_about_product).text\n",
    "\n",
    "eco_info = extract_eco_info(about_product)\n",
    "\n",
    "item[0].set_eco_info(eco_info)\n",
    "item[0].get_eco_info()"
   ]
  },
  {
   "cell_type": "code",
   "execution_count": 275,
   "metadata": {},
   "outputs": [
    {
     "name": "stdout",
     "output_type": "stream",
     "text": [
      "Water/Aqua/Eau, Dicaprylyl Carbonate, Glycerin, Cetearyl Alcohol, Cetearyl Olivate, Sorbitan Olivate, Sclerocarya Birrea Seed Oil, Bacillus/Soybean/ Folic Acid Ferment Extract, Nymphaea Alba Root Extract, sh-Oligopeptide-1, sh-Oligopeptide-2, sh-Polypeptide-1, sh-Polypeptide-9, sh-Polypeptide-11, Copper Palmitoyl Heptapeptide-14, Heptapeptide-15 Palmitate, Palmitoyl Tetrapeptide-7, Palmitoyl Tripeptide-1, Alanine, Arginine, Glycine, Histidine, Isoleucine, Phenylalanine, Proline, Serine, Threonine, Valine, Acetyl Glutamine, Coconut Alkanes, Coco-Caprylate/Caprate, Sodium Hyaluronate, Aspartic Acid, Linoleic Acid, Linolenic Acid, Lecithin, Butylene Glycol, Polyvinyl Alcohol, Sodium Lactate, Sodium PCA, PCA, Sorbitan Isostearate, Carbomer, Polysorbate 20, Polysorbate 60, Lactic Acid/Glycolic Acid Copolymer, Hydroxyethyl Acrylate/Sodium Acryloyldimethyl Taurate Copolymer, Xanthan Gum, Isomalt, 1,2-Hexanediol, Caprylyl Glycol, Chlorphenesin, Phenoxyethanol, Tocopherol, Sodium Benzoate, Phenylpropanol, Glyceryl Caprylate, Symphytum Officinale Callus Culture Extract.\n",
      "\n"
     ]
    },
    {
     "data": {
      "text/plain": [
       "['Signal Peptide Complex (Growth Factors)',\n",
       " 'Pygmy Waterlily Stem Cell Extract',\n",
       " 'Soybean Folic Acid Ferment Extract']"
      ]
     },
     "execution_count": 275,
     "metadata": {},
     "output_type": "execute_result"
    }
   ],
   "source": [
    "highlighted_ingredients = []\n",
    "all_ingredients = []\n",
    "\n",
    "all_ingredients, highlighted_ingredients  = get_ingredients()\n",
    "\n",
    "item[0].set_ingredients(all_ingredients)\n",
    "item[0].set_ingredients(highlighted_ingredients, all_of_them = False)\n",
    "\n",
    "item[0].get_ingredients(all_of_them = True)\n",
    "item[0].get_ingredients(all_of_them = False)"
   ]
  },
  {
   "cell_type": "markdown",
   "metadata": {},
   "source": [
    "the usage_schedule is not a reliable factor\n",
    "use_daily is difficult to assign as the word daily is often omitted "
   ]
  },
  {
   "cell_type": "code",
   "execution_count": 276,
   "metadata": {},
   "outputs": [
    {
     "data": {
      "text/plain": [
       "{'morning': True, 'night': True}"
      ]
     },
     "execution_count": 276,
     "metadata": {},
     "output_type": "execute_result"
    }
   ],
   "source": [
    "use_daily = False   \n",
    "usage = {\n",
    "    'morning': False,\n",
    "    'night': False\n",
    "}\n",
    "\n",
    "use_daily, usage = get_usage_schedule()\n",
    "\n",
    "item[0].set_usage(usage)\n",
    "item[0].get_usage()"
   ]
  },
  {
   "cell_type": "code",
   "execution_count": 278,
   "metadata": {},
   "outputs": [
    {
     "name": "stdout",
     "output_type": "stream",
     "text": [
      "{'_Product__all_ingredients': ['Water/Aqua/Eau',\n",
      "                               'Dicaprylyl Carbonate',\n",
      "                               'Glycerin',\n",
      "                               'Cetearyl Alcohol',\n",
      "                               'Cetearyl Olivate',\n",
      "                               'Sorbitan Olivate',\n",
      "                               'Sclerocarya Birrea Seed Oil',\n",
      "                               'Bacillus/Soybean/ Folic Acid Ferment Extract',\n",
      "                               'Nymphaea Alba Root Extract',\n",
      "                               'sh-Oligopeptide-1',\n",
      "                               'sh-Oligopeptide-2',\n",
      "                               'sh-Polypeptide-1',\n",
      "                               'sh-Polypeptide-9',\n",
      "                               'sh-Polypeptide-11',\n",
      "                               'Copper Palmitoyl Heptapeptide-14',\n",
      "                               'Heptapeptide-15 Palmitate',\n",
      "                               'Palmitoyl Tetrapeptide-7',\n",
      "                               'Palmitoyl Tripeptide-1',\n",
      "                               'Alanine',\n",
      "                               'Arginine',\n",
      "                               'Glycine',\n",
      "                               'Histidine',\n",
      "                               'Isoleucine',\n",
      "                               'Phenylalanine',\n",
      "                               'Proline',\n",
      "                               'Serine',\n",
      "                               'Threonine',\n",
      "                               'Valine',\n",
      "                               'Acetyl Glutamine',\n",
      "                               'Coconut Alkanes',\n",
      "                               'Coco-Caprylate/Caprate',\n",
      "                               'Sodium Hyaluronate',\n",
      "                               'Aspartic Acid',\n",
      "                               'Linoleic Acid',\n",
      "                               'Linolenic Acid',\n",
      "                               'Lecithin',\n",
      "                               'Butylene Glycol',\n",
      "                               'Polyvinyl Alcohol',\n",
      "                               'Sodium Lactate',\n",
      "                               'Sodium PCA',\n",
      "                               'PCA',\n",
      "                               'Sorbitan Isostearate',\n",
      "                               'Carbomer',\n",
      "                               'Polysorbate 20',\n",
      "                               'Polysorbate 60',\n",
      "                               'Lactic Acid/Glycolic Acid Copolymer',\n",
      "                               'Hydroxyethyl Acrylate/Sodium Acryloyldimethyl '\n",
      "                               'Taurate Copolymer',\n",
      "                               'Xanthan Gum',\n",
      "                               'Isomalt',\n",
      "                               '1,2-Hexanediol',\n",
      "                               'Caprylyl Glycol',\n",
      "                               'Chlorphenesin',\n",
      "                               'Phenoxyethanol',\n",
      "                               'Tocopherol',\n",
      "                               'Sodium Benzoate',\n",
      "                               'Phenylpropanol',\n",
      "                               'Glyceryl Caprylate',\n",
      "                               'Symphytum Officinale Callus Culture Extract'],\n",
      " '_Product__brand': 'Drunk Elephant',\n",
      " '_Product__concerns': [' Loss of firmness',\n",
      "                        ' Dullness/Uneven Texture',\n",
      "                        ' Anti-Aging',\n",
      "                        ' Dryness'],\n",
      " '_Product__eco_info': {'cruelty_free': True,\n",
      "                        'no_parabens': False,\n",
      "                        'recyclable_packaging': False,\n",
      "                        'vegan': True},\n",
      " '_Product__highlighted_ingredients': ['Signal Peptide Complex (Growth '\n",
      "                                       'Factors)',\n",
      "                                       'Pygmy Waterlily Stem Cell Extract',\n",
      "                                       'Soybean Folic Acid Ferment Extract'],\n",
      " '_Product__loves': '307',\n",
      " '_Product__name': 'Protini™ Polypeptide Moisturizer',\n",
      " '_Product__price': '68.00',\n",
      " '_Product__rating': 4.0,\n",
      " '_Product__reviews_num': 5246.0,\n",
      " '_Product__skin_type': ['Normal', 'Dry', 'Combination', 'Oily'],\n",
      " '_Product__usage': {'morning': True, 'night': True}}\n"
     ]
    }
   ],
   "source": [
    "pprint(vars(item[0]))"
   ]
  }
 ],
 "metadata": {
  "kernelspec": {
   "display_name": "Python 3",
   "language": "python",
   "name": "python3"
  },
  "language_info": {
   "codemirror_mode": {
    "name": "ipython",
    "version": 3
   },
   "file_extension": ".py",
   "mimetype": "text/x-python",
   "name": "python",
   "nbconvert_exporter": "python",
   "pygments_lexer": "ipython3",
   "version": "3.8.6"
  }
 },
 "nbformat": 4,
 "nbformat_minor": 4
}
