{
 "cells": [
  {
   "cell_type": "code",
   "execution_count": 11,
   "metadata": {},
   "outputs": [],
   "source": [
    "#Selenium imports here\n",
    "from selenium import webdriver\n",
    "from selenium.webdriver.common.keys import Keys\n",
    "from selenium.webdriver.support import expected_conditions as EC\n",
    "from selenium.webdriver.common.by import By\n",
    "from selenium.webdriver.support.wait import WebDriverWait\n",
    "from selenium.webdriver.common.action_chains import ActionChains\n",
    "\n",
    "\n",
    "#Other imports\n",
    "import os\n",
    "import wget\n",
    "\n",
    "\n",
    "import time"
   ]
  },
  {
   "cell_type": "code",
   "execution_count": 12,
   "metadata": {},
   "outputs": [],
   "source": [
    "# connect the webdriver to our notebook\n",
    "chrome_path = \"/Users/balapan/Downloads/chromedriver\"\n",
    "driver = webdriver.Chrome(executable_path = chrome_path)\n",
    "\n",
    "# get and open the needed webpage \n",
    "driver.get(\"https://www.sephora.com/\")"
   ]
  },
  {
   "cell_type": "code",
   "execution_count": 13,
   "metadata": {},
   "outputs": [],
   "source": [
    "# sephora's website layout of the navigation bar changes depending on the size of the window\n",
    "try:\n",
    "    # if in the full screen mode\n",
    "    skincare = WebDriverWait(driver,10).until(EC.element_to_be_clickable((By.CSS_SELECTOR, \"a[id = 'top_nav_drop_3_trigger']\"))).click()\n",
    "    all_skincare = driver.find_element_by_xpath('//*[@id=\"top_nav_drop_3_trigger\"]')\n",
    "    all_skincare.click()\n",
    "except:\n",
    "    # if the screen is small\n",
    "    time.sleep(5)\n",
    "    xpath = \"/html/body/div[1]/div[1]/header/div[3]/div/a[4]\"\n",
    "    all_skincare = driver.find_element_by_xpath(xpath)\n",
    "    all_skincare.click()\n",
    "# finally:\n",
    "#     all_skincare.click()"
   ]
  },
  {
   "cell_type": "code",
   "execution_count": 14,
   "metadata": {},
   "outputs": [],
   "source": [
    "# close the sign in page by clicking on the cross sign\n",
    "cross = WebDriverWait(driver,10).until(EC.element_to_be_clickable((By.CSS_SELECTOR, \"button[aria-label = 'Continue shopping']\"))).click()\n"
   ]
  },
  {
   "cell_type": "code",
   "execution_count": 15,
   "metadata": {},
   "outputs": [
    {
     "data": {
      "text/plain": [
       "['Moisturizers',\n",
       " 'Cleansers',\n",
       " 'Treatments',\n",
       " 'Eye Care',\n",
       " 'Masks',\n",
       " 'Sun Care',\n",
       " 'Lip Treatments']"
      ]
     },
     "execution_count": 15,
     "metadata": {},
     "output_type": "execute_result"
    }
   ],
   "source": [
    "# choose only the skincare categories that we are interested in \n",
    "tickers = ['Moisturizers', 'Cleansers', 'Treatments', 'Eye Care', 'Masks', 'Sun Care', 'Lip Treatments']\n",
    "\n",
    "# for testing purposes, shorten the list\n",
    "# tickers = tickers[:1]\n",
    "tickers"
   ]
  },
  {
   "cell_type": "code",
   "execution_count": 16,
   "metadata": {},
   "outputs": [],
   "source": [
    "# for ticker in tickers:\n",
    "#     xpath = \"/html/body/div[1]/div[2]/div/div/div/div[1]/div/div/nav/div[7]/a\"\n",
    "#     xpath = \"/html/body/div[1]/div[2]/div/div/div/div[1]/div/div/nav/div[8]/a\"\n",
    "#     class = \"css-10wlsyd e65zztl0\""
   ]
  },
  {
   "cell_type": "code",
   "execution_count": 17,
   "metadata": {},
   "outputs": [
    {
     "data": {
      "text/plain": [
       "['Just Arrived',\n",
       " 'Value & Gift Sets',\n",
       " 'Mini Size',\n",
       " 'Clean Skincare',\n",
       " 'Shop by Concern',\n",
       " 'Moisturizers',\n",
       " 'Cleansers',\n",
       " 'Treatments',\n",
       " 'Wellness',\n",
       " 'Eye Care',\n",
       " 'Masks',\n",
       " 'High Tech Tools',\n",
       " 'Sun Care',\n",
       " 'Self Tanners',\n",
       " 'Lip Treatments',\n",
       " 'Vegan Skincare']"
      ]
     },
     "execution_count": 17,
     "metadata": {},
     "output_type": "execute_result"
    }
   ],
   "source": [
    "# all categories we are interested in are in the same css class\n",
    "# use the class name to locate and save the class objects\n",
    "category_class = \"css-10wlsyd.e65zztl0\"\n",
    "class_objects = driver.find_elements_by_class_name(category_class)\n",
    "\n",
    "# check that we collected the right headers\n",
    "class_text = [c.text for c in class_objects]\n",
    "class_text"
   ]
  },
  {
   "cell_type": "code",
   "execution_count": 18,
   "metadata": {},
   "outputs": [
    {
     "name": "stdout",
     "output_type": "stream",
     "text": [
      "Moisturizers\n",
      "Cleansers\n",
      "Treatments\n",
      "Eye Care\n",
      "Masks\n",
      "Sun Care\n",
      "Lip Treatments\n"
     ]
    }
   ],
   "source": [
    "# only choose the ones that we are interested in \n",
    "categories = [x for x in class_objects if x.text in tickers]\n",
    "links = []\n",
    "\n",
    "# check their names and compare to the tickers list\n",
    "for m in categories:\n",
    "    print(m.text)"
   ]
  },
  {
   "cell_type": "code",
   "execution_count": 21,
   "metadata": {},
   "outputs": [],
   "source": [
    "# показ уведомлений хрома сбивает работу"
   ]
  },
  {
   "cell_type": "code",
   "execution_count": 26,
   "metadata": {},
   "outputs": [],
   "source": [
    "categories[0].click()"
   ]
  },
  {
   "cell_type": "code",
   "execution_count": 28,
   "metadata": {},
   "outputs": [
    {
     "data": {
      "text/plain": [
       "[<selenium.webdriver.remote.webelement.WebElement (session=\"f5c3bcddebd6723424748b46b885f329\", element=\"8c87a0ac-3bee-4a47-a891-bfa5733900ed\")>,\n",
       " <selenium.webdriver.remote.webelement.WebElement (session=\"f5c3bcddebd6723424748b46b885f329\", element=\"0276ebeb-7a92-419b-80cf-cd91788582b2\")>,\n",
       " <selenium.webdriver.remote.webelement.WebElement (session=\"f5c3bcddebd6723424748b46b885f329\", element=\"fed4eb0b-aeeb-4225-b458-472c8adb9941\")>,\n",
       " <selenium.webdriver.remote.webelement.WebElement (session=\"f5c3bcddebd6723424748b46b885f329\", element=\"f0345286-9b9e-4ae4-9f7a-c5d929ff25b6\")>,\n",
       " <selenium.webdriver.remote.webelement.WebElement (session=\"f5c3bcddebd6723424748b46b885f329\", element=\"e35a49da-fa76-4949-8f8b-b781ed8236ef\")>,\n",
       " <selenium.webdriver.remote.webelement.WebElement (session=\"f5c3bcddebd6723424748b46b885f329\", element=\"b7e24530-9aae-457e-9a94-343659ecbbd9\")>,\n",
       " <selenium.webdriver.remote.webelement.WebElement (session=\"f5c3bcddebd6723424748b46b885f329\", element=\"04da2641-b754-48c4-affd-266405e5aa80\")>,\n",
       " <selenium.webdriver.remote.webelement.WebElement (session=\"f5c3bcddebd6723424748b46b885f329\", element=\"8b8f3565-3f95-4b6e-8d05-30e5a97fb6e9\")>,\n",
       " <selenium.webdriver.remote.webelement.WebElement (session=\"f5c3bcddebd6723424748b46b885f329\", element=\"0e95ec08-f1bb-4953-a705-72e2718a71af\")>,\n",
       " <selenium.webdriver.remote.webelement.WebElement (session=\"f5c3bcddebd6723424748b46b885f329\", element=\"6b4b8dd8-b67c-451a-b752-5c2c2b837554\")>,\n",
       " <selenium.webdriver.remote.webelement.WebElement (session=\"f5c3bcddebd6723424748b46b885f329\", element=\"aa1945f2-e123-41a3-9a08-a28a4c71d3f8\")>,\n",
       " <selenium.webdriver.remote.webelement.WebElement (session=\"f5c3bcddebd6723424748b46b885f329\", element=\"7aed0f9d-d0d0-4d88-a0a7-d26db075b314\")>]"
      ]
     },
     "execution_count": 28,
     "metadata": {},
     "output_type": "execute_result"
    }
   ],
   "source": [
    "# collect some products on the page\n",
    "image_class = \"css-1rovmyu.e65zztl0\"\n",
    "\n",
    "# products = [x for x in products if x.text in tickers]\n",
    "# links = []\n",
    "\n",
    "products = driver.find_elements_by_class_name(image_class)\n",
    "products"
   ]
  },
  {
   "cell_type": "code",
   "execution_count": 29,
   "metadata": {},
   "outputs": [
    {
     "data": {
      "text/plain": [
       "12"
      ]
     },
     "execution_count": 29,
     "metadata": {},
     "output_type": "execute_result"
    }
   ],
   "source": [
    "len(products)"
   ]
  },
  {
   "cell_type": "code",
   "execution_count": 30,
   "metadata": {},
   "outputs": [],
   "source": [
    "products[0].click()"
   ]
  },
  {
   "cell_type": "code",
   "execution_count": 31,
   "metadata": {},
   "outputs": [],
   "source": [
    "class Product:\n",
    "    \n",
    "  def __init__(this, name, brand, \n",
    "               price=0 , rating=None, loves=None, \n",
    "               skin_type=None, concerns=None, ingredients=None):\n",
    "    this.name = name\n",
    "    this.brand = brand\n",
    "    this.price = price\n",
    "    this.rating = rating\n",
    "    this.loves = loves\n",
    "    this.skin_type = skin_type\n",
    "    this.concerns = concerns\n",
    "    this.ingredients = ingredients\n",
    "    \n",
    "  def __str__(self):  \n",
    "    return \"Product Description: \\n  name = % s,\\n  brand = % s\" % (self.name, self.brand)  \n",
    "    \n",
    "\n",
    "\n",
    "    "
   ]
  },
  {
   "cell_type": "code",
   "execution_count": 33,
   "metadata": {},
   "outputs": [
    {
     "ename": "NoSuchElementException",
     "evalue": "Message: no such element: Unable to locate element: {\"method\":\"css selector\",\"selector\":\"span.css-1ac1x0l.eanm77i0\"}\n  (Session info: chrome=89.0.4389.114)\n",
     "output_type": "error",
     "traceback": [
      "\u001b[0;31m---------------------------------------------------------------------------\u001b[0m",
      "\u001b[0;31mNoSuchElementException\u001b[0m                    Traceback (most recent call last)",
      "\u001b[0;32m<ipython-input-33-4296d60b15ad>\u001b[0m in \u001b[0;36m<module>\u001b[0;34m\u001b[0m\n\u001b[1;32m     12\u001b[0m \u001b[0mbrand\u001b[0m \u001b[0;34m=\u001b[0m \u001b[0mdriver\u001b[0m\u001b[0;34m.\u001b[0m\u001b[0mfind_element_by_css_selector\u001b[0m\u001b[0;34m(\u001b[0m\u001b[0mcss_brand\u001b[0m\u001b[0;34m)\u001b[0m\u001b[0;34m.\u001b[0m\u001b[0mtext\u001b[0m\u001b[0;34m\u001b[0m\u001b[0;34m\u001b[0m\u001b[0m\n\u001b[1;32m     13\u001b[0m \u001b[0mprice\u001b[0m \u001b[0;34m=\u001b[0m \u001b[0mdriver\u001b[0m\u001b[0;34m.\u001b[0m\u001b[0mfind_element_by_css_selector\u001b[0m\u001b[0;34m(\u001b[0m\u001b[0mcss_price\u001b[0m\u001b[0;34m)\u001b[0m\u001b[0;34m.\u001b[0m\u001b[0mtext\u001b[0m\u001b[0;34m\u001b[0m\u001b[0;34m\u001b[0m\u001b[0m\n\u001b[0;32m---> 14\u001b[0;31m \u001b[0mloves\u001b[0m \u001b[0;34m=\u001b[0m \u001b[0mdriver\u001b[0m\u001b[0;34m.\u001b[0m\u001b[0mfind_element_by_css_selector\u001b[0m\u001b[0;34m(\u001b[0m\u001b[0mcss_loves\u001b[0m\u001b[0;34m)\u001b[0m\u001b[0;34m.\u001b[0m\u001b[0mtext\u001b[0m\u001b[0;34m\u001b[0m\u001b[0;34m\u001b[0m\u001b[0m\n\u001b[0m\u001b[1;32m     15\u001b[0m \u001b[0;34m\u001b[0m\u001b[0m\n\u001b[1;32m     16\u001b[0m \u001b[0mprint\u001b[0m\u001b[0;34m(\u001b[0m\u001b[0mname\u001b[0m\u001b[0;34m,\u001b[0m \u001b[0mbrand\u001b[0m\u001b[0;34m,\u001b[0m \u001b[0mprice\u001b[0m\u001b[0;34m,\u001b[0m \u001b[0mloves\u001b[0m\u001b[0;34m)\u001b[0m\u001b[0;34m\u001b[0m\u001b[0;34m\u001b[0m\u001b[0m\n",
      "\u001b[0;32m/usr/local/lib/python3.8/site-packages/selenium/webdriver/remote/webdriver.py\u001b[0m in \u001b[0;36mfind_element_by_css_selector\u001b[0;34m(self, css_selector)\u001b[0m\n\u001b[1;32m    596\u001b[0m             \u001b[0melement\u001b[0m \u001b[0;34m=\u001b[0m \u001b[0mdriver\u001b[0m\u001b[0;34m.\u001b[0m\u001b[0mfind_element_by_css_selector\u001b[0m\u001b[0;34m(\u001b[0m\u001b[0;34m'#foo'\u001b[0m\u001b[0;34m)\u001b[0m\u001b[0;34m\u001b[0m\u001b[0;34m\u001b[0m\u001b[0m\n\u001b[1;32m    597\u001b[0m         \"\"\"\n\u001b[0;32m--> 598\u001b[0;31m         \u001b[0;32mreturn\u001b[0m \u001b[0mself\u001b[0m\u001b[0;34m.\u001b[0m\u001b[0mfind_element\u001b[0m\u001b[0;34m(\u001b[0m\u001b[0mby\u001b[0m\u001b[0;34m=\u001b[0m\u001b[0mBy\u001b[0m\u001b[0;34m.\u001b[0m\u001b[0mCSS_SELECTOR\u001b[0m\u001b[0;34m,\u001b[0m \u001b[0mvalue\u001b[0m\u001b[0;34m=\u001b[0m\u001b[0mcss_selector\u001b[0m\u001b[0;34m)\u001b[0m\u001b[0;34m\u001b[0m\u001b[0;34m\u001b[0m\u001b[0m\n\u001b[0m\u001b[1;32m    599\u001b[0m \u001b[0;34m\u001b[0m\u001b[0m\n\u001b[1;32m    600\u001b[0m     \u001b[0;32mdef\u001b[0m \u001b[0mfind_elements_by_css_selector\u001b[0m\u001b[0;34m(\u001b[0m\u001b[0mself\u001b[0m\u001b[0;34m,\u001b[0m \u001b[0mcss_selector\u001b[0m\u001b[0;34m)\u001b[0m\u001b[0;34m:\u001b[0m\u001b[0;34m\u001b[0m\u001b[0;34m\u001b[0m\u001b[0m\n",
      "\u001b[0;32m/usr/local/lib/python3.8/site-packages/selenium/webdriver/remote/webdriver.py\u001b[0m in \u001b[0;36mfind_element\u001b[0;34m(self, by, value)\u001b[0m\n\u001b[1;32m    974\u001b[0m                 \u001b[0mby\u001b[0m \u001b[0;34m=\u001b[0m \u001b[0mBy\u001b[0m\u001b[0;34m.\u001b[0m\u001b[0mCSS_SELECTOR\u001b[0m\u001b[0;34m\u001b[0m\u001b[0;34m\u001b[0m\u001b[0m\n\u001b[1;32m    975\u001b[0m                 \u001b[0mvalue\u001b[0m \u001b[0;34m=\u001b[0m \u001b[0;34m'[name=\"%s\"]'\u001b[0m \u001b[0;34m%\u001b[0m \u001b[0mvalue\u001b[0m\u001b[0;34m\u001b[0m\u001b[0;34m\u001b[0m\u001b[0m\n\u001b[0;32m--> 976\u001b[0;31m         return self.execute(Command.FIND_ELEMENT, {\n\u001b[0m\u001b[1;32m    977\u001b[0m             \u001b[0;34m'using'\u001b[0m\u001b[0;34m:\u001b[0m \u001b[0mby\u001b[0m\u001b[0;34m,\u001b[0m\u001b[0;34m\u001b[0m\u001b[0;34m\u001b[0m\u001b[0m\n\u001b[1;32m    978\u001b[0m             'value': value})['value']\n",
      "\u001b[0;32m/usr/local/lib/python3.8/site-packages/selenium/webdriver/remote/webdriver.py\u001b[0m in \u001b[0;36mexecute\u001b[0;34m(self, driver_command, params)\u001b[0m\n\u001b[1;32m    319\u001b[0m         \u001b[0mresponse\u001b[0m \u001b[0;34m=\u001b[0m \u001b[0mself\u001b[0m\u001b[0;34m.\u001b[0m\u001b[0mcommand_executor\u001b[0m\u001b[0;34m.\u001b[0m\u001b[0mexecute\u001b[0m\u001b[0;34m(\u001b[0m\u001b[0mdriver_command\u001b[0m\u001b[0;34m,\u001b[0m \u001b[0mparams\u001b[0m\u001b[0;34m)\u001b[0m\u001b[0;34m\u001b[0m\u001b[0;34m\u001b[0m\u001b[0m\n\u001b[1;32m    320\u001b[0m         \u001b[0;32mif\u001b[0m \u001b[0mresponse\u001b[0m\u001b[0;34m:\u001b[0m\u001b[0;34m\u001b[0m\u001b[0;34m\u001b[0m\u001b[0m\n\u001b[0;32m--> 321\u001b[0;31m             \u001b[0mself\u001b[0m\u001b[0;34m.\u001b[0m\u001b[0merror_handler\u001b[0m\u001b[0;34m.\u001b[0m\u001b[0mcheck_response\u001b[0m\u001b[0;34m(\u001b[0m\u001b[0mresponse\u001b[0m\u001b[0;34m)\u001b[0m\u001b[0;34m\u001b[0m\u001b[0;34m\u001b[0m\u001b[0m\n\u001b[0m\u001b[1;32m    322\u001b[0m             response['value'] = self._unwrap_value(\n\u001b[1;32m    323\u001b[0m                 response.get('value', None))\n",
      "\u001b[0;32m/usr/local/lib/python3.8/site-packages/selenium/webdriver/remote/errorhandler.py\u001b[0m in \u001b[0;36mcheck_response\u001b[0;34m(self, response)\u001b[0m\n\u001b[1;32m    240\u001b[0m                 \u001b[0malert_text\u001b[0m \u001b[0;34m=\u001b[0m \u001b[0mvalue\u001b[0m\u001b[0;34m[\u001b[0m\u001b[0;34m'alert'\u001b[0m\u001b[0;34m]\u001b[0m\u001b[0;34m.\u001b[0m\u001b[0mget\u001b[0m\u001b[0;34m(\u001b[0m\u001b[0;34m'text'\u001b[0m\u001b[0;34m)\u001b[0m\u001b[0;34m\u001b[0m\u001b[0;34m\u001b[0m\u001b[0m\n\u001b[1;32m    241\u001b[0m             \u001b[0;32mraise\u001b[0m \u001b[0mexception_class\u001b[0m\u001b[0;34m(\u001b[0m\u001b[0mmessage\u001b[0m\u001b[0;34m,\u001b[0m \u001b[0mscreen\u001b[0m\u001b[0;34m,\u001b[0m \u001b[0mstacktrace\u001b[0m\u001b[0;34m,\u001b[0m \u001b[0malert_text\u001b[0m\u001b[0;34m)\u001b[0m\u001b[0;34m\u001b[0m\u001b[0;34m\u001b[0m\u001b[0m\n\u001b[0;32m--> 242\u001b[0;31m         \u001b[0;32mraise\u001b[0m \u001b[0mexception_class\u001b[0m\u001b[0;34m(\u001b[0m\u001b[0mmessage\u001b[0m\u001b[0;34m,\u001b[0m \u001b[0mscreen\u001b[0m\u001b[0;34m,\u001b[0m \u001b[0mstacktrace\u001b[0m\u001b[0;34m)\u001b[0m\u001b[0;34m\u001b[0m\u001b[0;34m\u001b[0m\u001b[0m\n\u001b[0m\u001b[1;32m    243\u001b[0m \u001b[0;34m\u001b[0m\u001b[0m\n\u001b[1;32m    244\u001b[0m     \u001b[0;32mdef\u001b[0m \u001b[0m_value_or_default\u001b[0m\u001b[0;34m(\u001b[0m\u001b[0mself\u001b[0m\u001b[0;34m,\u001b[0m \u001b[0mobj\u001b[0m\u001b[0;34m,\u001b[0m \u001b[0mkey\u001b[0m\u001b[0;34m,\u001b[0m \u001b[0mdefault\u001b[0m\u001b[0;34m)\u001b[0m\u001b[0;34m:\u001b[0m\u001b[0;34m\u001b[0m\u001b[0;34m\u001b[0m\u001b[0m\n",
      "\u001b[0;31mNoSuchElementException\u001b[0m: Message: no such element: Unable to locate element: {\"method\":\"css selector\",\"selector\":\"span.css-1ac1x0l.eanm77i0\"}\n  (Session info: chrome=89.0.4389.114)\n"
     ]
    }
   ],
   "source": [
    "# get name, price and number of loves for a product\n",
    "# css_name = 'span.css-57kn72'\n",
    "# css_price = 'span[data-at=\"price\"]'\n",
    "# css_loves = 'span[data-at=\"product_love_count\"]'\n",
    "\n",
    "css_name  = 'span.css-1pgnl76.css-1pgnl76'\n",
    "css_brand = 'a.css-nc375s.e65zztl0'\n",
    "css_price = 'span.css-1lzahen'\n",
    "css_loves = 'span.css-1ac1x0l.eanm77i0'\n",
    "\n",
    "name  = driver.find_element_by_css_selector(css_name).text\n",
    "brand = driver.find_element_by_css_selector(css_brand).text\n",
    "price = driver.find_element_by_css_selector(css_price).text\n",
    "loves = driver.find_element_by_css_selector(css_loves).text\n",
    "\n",
    "print(name, brand, price, loves)"
   ]
  },
  {
   "cell_type": "code",
   "execution_count": null,
   "metadata": {},
   "outputs": [],
   "source": [
    "product1 = Product(name, brand, price, loves=loves)\n",
    "print(product1)"
   ]
  },
  {
   "cell_type": "code",
   "execution_count": null,
   "metadata": {},
   "outputs": [],
   "source": [
    "# # get rating\n",
    "\n",
    "# keys = list(map(str, list(range(5,0,-1))))\n",
    "# values = list(range(1,6))\n",
    "# rating_dict = dict(zip(keys, values))\n",
    "\n",
    "\n",
    "# def get_votes(v):\n",
    "#     time.sleep(5)\n",
    "# #     css_rating = '//*[@id=\"ratings-reviews\"]/div[2]/div[2]/div[2]/table/tbody/tr['+ str(v)+']/td[3]'\n",
    "#     css_rating = '//*[@id=\"ratings-reviews\"]/div[2]/div[2]/div[2]/table/tbody/tr[1]/td[3]'\n",
    "#     return int(driver.find_element_by_xpath(css_rating).text)\n",
    "    \n",
    "\n",
    "# rating = {k: get_votes(v) for k, v in rating_dict.items()}\n",
    "# rating"
   ]
  },
  {
   "cell_type": "code",
   "execution_count": null,
   "metadata": {},
   "outputs": [],
   "source": [
    "def extract_number(string):\n",
    "    number = ''\n",
    "    for char in string:\n",
    "        if char.isdigit():\n",
    "            number+=(char)\n",
    "    return float(number)\n",
    "\n",
    "\n",
    "# get the overall rating/score \n",
    "css_rating = '//*[@id=\"ratings-reviews-container\"]/div[2]/div[2]/div[1]/div/div[2]/div/span'\n",
    "total_score = float(driver.find_element_by_xpath(css_rating).text)\n",
    "\n",
    "# get total number of reviews \n",
    "css_review_count = '//*[@id=\"ratings-reviews-container\"]/div[2]/div[2]/div[1]/div/div[2]/span'\n",
    "total_reviews_count = driver.find_element_by_xpath(css_review_count).text\n",
    "total_reviews_count = extract_number(total_reviews_count)\n",
    "\n",
    "\n",
    "print(total_score, total_reviews_count)"
   ]
  },
  {
   "cell_type": "code",
   "execution_count": null,
   "metadata": {},
   "outputs": [],
   "source": [
    "import re\n",
    "def extract_highlights(highlights):\n",
    "    start = 'Good for:'\n",
    "    end = '\\n'\n",
    "\n",
    "    result = re.findall('%s(.*)%s' % (start, end), highlights)\n",
    "    print(result)\n",
    "\n",
    "# get highlights - info from the good for section\n",
    "good_for = []\n",
    "css_highlights = '/html/body/div[1]/div[2]/div/main/div/div[3]'\n",
    "highlights = driver.find_element_by_xpath(css_highlights).text\n",
    "\n",
    "print('Extracted full info\\n')\n",
    "print(highlights)\n",
    "\n",
    "print('\\nHighlights only\\n')\n",
    "good_for = extract_highlights(highlights)\n",
    "good_for\n",
    "\n"
   ]
  },
  {
   "cell_type": "code",
   "execution_count": null,
   "metadata": {},
   "outputs": [],
   "source": [
    "# # get skin type\n",
    "# id_details = 'tabpanel0'\n",
    "# details = driver.find_element_by_id(id_details)\n",
    "\n",
    "# import re\n",
    "\n",
    "# txt = details.text\n",
    "\n",
    "# print(txt)\n",
    "\n",
    "# x = re.findall(\"(?<=Type).*?(?=Skincare)\", txt)\n",
    "# print(x)\n",
    "\n"
   ]
  },
  {
   "cell_type": "code",
   "execution_count": null,
   "metadata": {},
   "outputs": [],
   "source": [
    "# css_about_product = '/html/body/div[1]/div[2]/div/main/div/div[5]/div[2]/div'\n",
    "# about_product = driver.find_element_by_xpath(css_about_product).text\n",
    "\n",
    "\n",
    "# def extract_skin_type(about):\n",
    "#     start = 'Skincare Concerns:'\n",
    "#     end = '\\n'\n",
    "    \n",
    "#     result = re.findall('%s(.*)%s' % (start, end), about)[0]\n",
    "    \n",
    "#     print(result)\n",
    "#     result = result.replace(' and ', ',')\n",
    "#     print(result)\n",
    "#     result = result.split(',')\n",
    "#     print(result)\n",
    "    \n",
    "# extract_skin_type(about_product)"
   ]
  },
  {
   "cell_type": "code",
   "execution_count": null,
   "metadata": {},
   "outputs": [],
   "source": [
    "css_about_product = '/html/body/div[1]/div[2]/div/main/div/div[5]/div[2]/div'\n",
    "about_product = driver.find_element_by_xpath(css_about_product).text\n",
    "\n",
    "\n",
    "def extract_skin_type(about):\n",
    "    start = 'Skin Type: '\n",
    "    end = '\\n'\n",
    "    \n",
    "    result = re.findall('%s(.*)%s' % (start, end), about)[0]\n",
    "    result = (result.replace(' and ', ',')).split(',')\n",
    "    skin_types = list(filter(None, result))\n",
    "    skin_types = [st.strip() for st in skin_types]\n",
    "    return skin_types\n",
    "      \n",
    "skin_types = extract_skin_type(about_product)\n",
    "skin_types"
   ]
  },
  {
   "cell_type": "code",
   "execution_count": null,
   "metadata": {},
   "outputs": [],
   "source": [
    "def extract_eco_info(about):\n",
    "    global recyclable_packaging, cruelty_free, vegan, no_parabens\n",
    "    start = 'Ingredient Callouts: '\n",
    "    end = '\\n'\n",
    "    result = (re.findall('%s(.*)%s' % (start, end), about)[0]).lower()\n",
    "#     result = re.findall('%s(.*)%s' % (start, end), about)\n",
    "    print(result)\n",
    "    if 'recyclable' in result:\n",
    "        recyclable_packaging = True\n",
    "    \n",
    "    if 'vegan' in result:\n",
    "        vegan = True \n",
    "        \n",
    "    if 'cruelty-free' in result:\n",
    "        cruelty_free = True\n",
    "    \n",
    "    if 'parabens' in result:\n",
    "        no_parabens = True\n",
    "        \n",
    "    print(vegan,cruelty_free,recyclable_packaging, no_parabens)\n",
    "    \n",
    "vegan = False\n",
    "cruelty_free = False\n",
    "recyclable_packaging = False\n",
    "no_parabens = False\n",
    "\n",
    "# for some reason need to assign about_product again as it changes \n",
    "about_product = driver.find_element_by_xpath(css_about_product).text\n",
    "extract_eco_info(about_product)\n"
   ]
  },
  {
   "cell_type": "code",
   "execution_count": null,
   "metadata": {},
   "outputs": [],
   "source": [
    "highlighted_ingredients = []\n",
    "all_ingredients = []\n",
    "\n",
    "# get all ingredients and high ingredients\n",
    "def get_ingredients():\n",
    "    highlighted_ingredients = []\n",
    "    all_ingredients = []\n",
    "    conversational_words = ['are','is', 'in', 'with', 'to', 'please', 'must',  'be']\n",
    "    conversational_words = list(map(lambda x: ' ' + x + ' ', conversational_words))\n",
    "    \n",
    "    xpath_button = '/html/body/div[1]/div[2]/div/main/div/button[1]'\n",
    "    xpath_descr = '//*[@id=\"ingredients\"]/div/div'\n",
    "    \n",
    "    ingredients_button = driver.find_element_by_xpath(xpath_button)\n",
    "    ingredients_button.click()\n",
    "    \n",
    "    description = driver.find_element_by_xpath(xpath_descr).text\n",
    "    description = description.split('\\n\\n')\n",
    "    \n",
    "    for paragraph in description: \n",
    "        if paragraph[0] == '-':\n",
    "            start = '-'\n",
    "            end = ':'\n",
    "            highlighted_ingredients = re.findall('%s(.*)%s' % (start,end), paragraph)\n",
    "        elif not(any(word in paragraph for word in conversational_words)):\n",
    "            print(paragraph)\n",
    "            print('')\n",
    "            all_ingredients = (paragraph.split(', ')).copy()\n",
    "            #remove dot at the end of the converted to list of ingredients paragraph\n",
    "            if all_ingredients[-1][-1] == '.':\n",
    "                all_ingredients[-1] = all_ingredients[-1][:-1]\n",
    "                 \n",
    "    return (all_ingredients, highlighted_ingredients)\n",
    "\n",
    "all_ingredients, highlighted_ingredients  = get_ingredients()"
   ]
  },
  {
   "cell_type": "code",
   "execution_count": null,
   "metadata": {},
   "outputs": [],
   "source": [
    "highlighted_ingredients"
   ]
  },
  {
   "cell_type": "code",
   "execution_count": null,
   "metadata": {},
   "outputs": [],
   "source": [
    "all_ingredients"
   ]
  },
  {
   "cell_type": "markdown",
   "metadata": {},
   "source": [
    "the useage_schedule is not a reliable factor\n",
    "use_daily is difficult to assign as the word daily is often omitted "
   ]
  },
  {
   "cell_type": "code",
   "execution_count": null,
   "metadata": {},
   "outputs": [],
   "source": [
    "def get_usage_schedule():\n",
    "    use_daily = False\n",
    "    usage = {\n",
    "        'morning': False,\n",
    "        'night': False\n",
    "        }\n",
    "    \n",
    "    xpath_button = '/html/body/div[1]/div[2]/div/main/div/button[2]'\n",
    "    xpath_descr = '//*[@id=\"howtouse\"]/div/div'\n",
    "    \n",
    "    how_to_use = driver.find_element_by_xpath(xpath_button)\n",
    "    how_to_use.click()\n",
    "    \n",
    "    usage_schedule = driver.find_element_by_xpath(xpath_descr).text.lower()\n",
    "    usage_schedule = usage_schedule.split('\\n\\n')\n",
    "    \n",
    "    for paragraph in usage_schedule: \n",
    "        if 'suggested usage' in paragraph:\n",
    "            if 'daily' in paragraph:\n",
    "                use_daily = True\n",
    "            if 'morning' in paragraph:\n",
    "                usage['morning'] = True \n",
    "            if 'night' in paragraph:\n",
    "                usage['night'] = True\n",
    "            if 'twice a day' in paragraph: \n",
    "                usage['morning'] = True \n",
    "                usage['night'] = True\n",
    "    return (use_daily, usage)\n",
    "    \n",
    "use_daily = False   \n",
    "usage = {\n",
    "    'morning': False,\n",
    "    'night': False\n",
    "}\n",
    "\n",
    "use_daily, usage = get_usage_schedule()"
   ]
  },
  {
   "cell_type": "code",
   "execution_count": null,
   "metadata": {},
   "outputs": [],
   "source": [
    "use_daily"
   ]
  },
  {
   "cell_type": "code",
   "execution_count": null,
   "metadata": {},
   "outputs": [],
   "source": [
    "usage"
   ]
  },
  {
   "cell_type": "code",
   "execution_count": null,
   "metadata": {},
   "outputs": [],
   "source": []
  }
 ],
 "metadata": {
  "kernelspec": {
   "display_name": "Python 3",
   "language": "python",
   "name": "python3"
  },
  "language_info": {
   "codemirror_mode": {
    "name": "ipython",
    "version": 3
   },
   "file_extension": ".py",
   "mimetype": "text/x-python",
   "name": "python",
   "nbconvert_exporter": "python",
   "pygments_lexer": "ipython3",
   "version": "3.8.6"
  }
 },
 "nbformat": 4,
 "nbformat_minor": 4
}
