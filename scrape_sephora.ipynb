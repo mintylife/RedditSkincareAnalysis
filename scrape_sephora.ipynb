{
 "cells": [
  {
   "cell_type": "code",
   "execution_count": 9,
   "metadata": {},
   "outputs": [],
   "source": [
    "#Selenium imports here\n",
    "from selenium import webdriver\n",
    "from selenium.webdriver.common.keys import Keys\n",
    "from selenium.webdriver.support import expected_conditions as EC\n",
    "from selenium.webdriver.common.by import By\n",
    "from selenium.webdriver.support.wait import WebDriverWait\n",
    "from selenium.webdriver.common.action_chains import ActionChains\n",
    "\n",
    "\n",
    "#Other imports\n",
    "import os\n",
    "import wget\n",
    "\n",
    "\n",
    "import time"
   ]
  },
  {
   "cell_type": "code",
   "execution_count": 10,
   "metadata": {},
   "outputs": [],
   "source": [
    "# connect the webdriver to our notebook\n",
    "chrome_path = \"/Users/balapan/Downloads/chromedriver\"\n",
    "driver = webdriver.Chrome(executable_path = chrome_path)\n",
    "\n",
    "# get and open the needed webpage \n",
    "driver.get(\"https://www.sephora.com/\")"
   ]
  },
  {
   "cell_type": "code",
   "execution_count": 11,
   "metadata": {},
   "outputs": [],
   "source": [
    "# sephora's website layout of the navigation bar changes depending on the size of the window\n",
    "try:\n",
    "    # if in the full screen mode\n",
    "    skincare = WebDriverWait(driver,10).until(EC.element_to_be_clickable((By.CSS_SELECTOR, \"a[id = 'top_nav_drop_3_trigger']\"))).click()\n",
    "    all_skincare = driver.find_element_by_xpath('//*[@id=\"top_nav_drop_3_trigger\"]')\n",
    "    all_skincare.click()\n",
    "except:\n",
    "    # if the screen is small\n",
    "    time.sleep(5)\n",
    "    xpath = \"/html/body/div[1]/div[1]/header/div[3]/div/a[4]\"\n",
    "    all_skincare = driver.find_element_by_xpath(xpath)\n",
    "    all_skincare.click()\n",
    "# finally:\n",
    "#     all_skincare.click()"
   ]
  },
  {
   "cell_type": "code",
   "execution_count": 12,
   "metadata": {},
   "outputs": [],
   "source": [
    "# close the sign in page by clicking on the cross sign\n",
    "cross = WebDriverWait(driver,10).until(EC.element_to_be_clickable((By.CSS_SELECTOR, \"button[aria-label = 'Continue shopping']\"))).click()\n"
   ]
  },
  {
   "cell_type": "code",
   "execution_count": 13,
   "metadata": {},
   "outputs": [
    {
     "data": {
      "text/plain": [
       "['Moisturizers',\n",
       " 'Cleansers',\n",
       " 'Treatments',\n",
       " 'Eye Care',\n",
       " 'Masks',\n",
       " 'Sun Care',\n",
       " 'Lip Treatments']"
      ]
     },
     "execution_count": 13,
     "metadata": {},
     "output_type": "execute_result"
    }
   ],
   "source": [
    "# choose only the skincare categories that we are interested in \n",
    "tickers = ['Moisturizers', 'Cleansers', 'Treatments', 'Eye Care', 'Masks', 'Sun Care', 'Lip Treatments']\n",
    "\n",
    "# for testing purposes, shorten the list\n",
    "# tickers = tickers[:1]\n",
    "tickers"
   ]
  },
  {
   "cell_type": "code",
   "execution_count": 14,
   "metadata": {},
   "outputs": [],
   "source": [
    "# for ticker in tickers:\n",
    "#     xpath = \"/html/body/div[1]/div[2]/div/div/div/div[1]/div/div/nav/div[7]/a\"\n",
    "#     xpath = \"/html/body/div[1]/div[2]/div/div/div/div[1]/div/div/nav/div[8]/a\"\n",
    "#     class = \"css-10wlsyd e65zztl0\""
   ]
  },
  {
   "cell_type": "code",
   "execution_count": 15,
   "metadata": {},
   "outputs": [
    {
     "data": {
      "text/plain": [
       "['Just Arrived',\n",
       " 'Value & Gift Sets',\n",
       " 'Mini Size',\n",
       " 'Clean Skincare',\n",
       " 'Shop by Concern',\n",
       " 'Moisturizers',\n",
       " 'Cleansers',\n",
       " 'Treatments',\n",
       " 'Wellness',\n",
       " 'Eye Care',\n",
       " 'Masks',\n",
       " 'High Tech Tools',\n",
       " 'Sun Care',\n",
       " 'Self Tanners',\n",
       " 'Lip Treatments',\n",
       " 'Vegan Skincare']"
      ]
     },
     "execution_count": 15,
     "metadata": {},
     "output_type": "execute_result"
    }
   ],
   "source": [
    "# all categories we are interested in are in the same css class\n",
    "# use the class name to locate and save the class objects\n",
    "category_class = \"css-10wlsyd.e65zztl0\"\n",
    "class_objects = driver.find_elements_by_class_name(category_class)\n",
    "\n",
    "# check that we collected the right headers\n",
    "class_text = [c.text for c in class_objects]\n",
    "class_text"
   ]
  },
  {
   "cell_type": "code",
   "execution_count": 16,
   "metadata": {},
   "outputs": [
    {
     "name": "stdout",
     "output_type": "stream",
     "text": [
      "Moisturizers\n",
      "Cleansers\n",
      "Treatments\n",
      "Eye Care\n",
      "Masks\n",
      "Sun Care\n",
      "Lip Treatments\n"
     ]
    }
   ],
   "source": [
    "# only choose the ones that we are interested in \n",
    "categories = [x for x in class_objects if x.text in tickers]\n",
    "links = []\n",
    "\n",
    "# check their names and compare to the tickers list\n",
    "for m in categories:\n",
    "    print(m.text)"
   ]
  },
  {
   "cell_type": "code",
   "execution_count": 17,
   "metadata": {},
   "outputs": [],
   "source": [
    "categories[0].click()"
   ]
  },
  {
   "cell_type": "code",
   "execution_count": 18,
   "metadata": {},
   "outputs": [
    {
     "data": {
      "text/plain": [
       "[<selenium.webdriver.remote.webelement.WebElement (session=\"faead33041fc438b136ff01f7d44da8f\", element=\"657b7d45-e89a-41f2-bc3a-91c80f7c8fe5\")>,\n",
       " <selenium.webdriver.remote.webelement.WebElement (session=\"faead33041fc438b136ff01f7d44da8f\", element=\"8b4598b9-03f3-41a3-8a9e-30322a9730b4\")>,\n",
       " <selenium.webdriver.remote.webelement.WebElement (session=\"faead33041fc438b136ff01f7d44da8f\", element=\"56c41fe9-018d-424e-b38c-fa965534316e\")>,\n",
       " <selenium.webdriver.remote.webelement.WebElement (session=\"faead33041fc438b136ff01f7d44da8f\", element=\"e10f4850-956c-47b6-a750-7adc77a579cf\")>,\n",
       " <selenium.webdriver.remote.webelement.WebElement (session=\"faead33041fc438b136ff01f7d44da8f\", element=\"222b2f96-0ccb-4216-ab8f-0718adee9e91\")>,\n",
       " <selenium.webdriver.remote.webelement.WebElement (session=\"faead33041fc438b136ff01f7d44da8f\", element=\"ae3ce411-2eb6-49af-9b87-fecaa5494e79\")>,\n",
       " <selenium.webdriver.remote.webelement.WebElement (session=\"faead33041fc438b136ff01f7d44da8f\", element=\"4ff55735-709a-43af-bd9c-af4090639063\")>,\n",
       " <selenium.webdriver.remote.webelement.WebElement (session=\"faead33041fc438b136ff01f7d44da8f\", element=\"b916c29e-ed29-4f89-94f2-51d265703710\")>,\n",
       " <selenium.webdriver.remote.webelement.WebElement (session=\"faead33041fc438b136ff01f7d44da8f\", element=\"6841b8f8-c5f1-4613-acf8-df2c3dbeb3cf\")>,\n",
       " <selenium.webdriver.remote.webelement.WebElement (session=\"faead33041fc438b136ff01f7d44da8f\", element=\"300eabcf-1201-4ac2-8954-8df7b57860a4\")>,\n",
       " <selenium.webdriver.remote.webelement.WebElement (session=\"faead33041fc438b136ff01f7d44da8f\", element=\"dad40b7b-31ba-48bf-bc6f-cbefd7b9a8e0\")>,\n",
       " <selenium.webdriver.remote.webelement.WebElement (session=\"faead33041fc438b136ff01f7d44da8f\", element=\"cb511193-8ae4-4b93-95f4-c6f4e38e8a39\")>]"
      ]
     },
     "execution_count": 18,
     "metadata": {},
     "output_type": "execute_result"
    }
   ],
   "source": [
    "# collect some products on the page\n",
    "image_class = \"css-1rovmyu.e65zztl0\"\n",
    "\n",
    "# products = [x for x in products if x.text in tickers]\n",
    "# links = []\n",
    "\n",
    "products = driver.find_elements_by_class_name(image_class)\n",
    "products"
   ]
  },
  {
   "cell_type": "code",
   "execution_count": 19,
   "metadata": {},
   "outputs": [
    {
     "data": {
      "text/plain": [
       "12"
      ]
     },
     "execution_count": 19,
     "metadata": {},
     "output_type": "execute_result"
    }
   ],
   "source": [
    "len(products)"
   ]
  },
  {
   "cell_type": "code",
   "execution_count": 20,
   "metadata": {},
   "outputs": [],
   "source": [
    "products[0].click()"
   ]
  },
  {
   "cell_type": "code",
   "execution_count": 21,
   "metadata": {},
   "outputs": [],
   "source": [
    "class Product:\n",
    "    \n",
    "  def __init__(this, name, brand, \n",
    "               price=0 , rating=None, loves=None, \n",
    "               skin_type=None, concerns=None, ingredients=None):\n",
    "    this.name = name\n",
    "    this.brand = brand\n",
    "    this.price = price\n",
    "    this.rating = rating\n",
    "    this.loves = loves\n",
    "    this.skin_type = skin_type\n",
    "    this.concerns = concerns\n",
    "    this.ingredients = ingredients\n",
    "    \n",
    "  def __str__(self):  \n",
    "    return \"Product Description: \\n  name = % s,\\n  brand = % s\" % (self.name, self.brand)  \n",
    "    \n",
    "\n",
    "\n",
    "    "
   ]
  },
  {
   "cell_type": "code",
   "execution_count": 22,
   "metadata": {},
   "outputs": [
    {
     "name": "stdout",
     "output_type": "stream",
     "text": [
      "Protini™ Polypeptide Moisturizer Drunk Elephant $68.00 4.0\n"
     ]
    }
   ],
   "source": [
    "# get name, price and number of loves for a product\n",
    "# css_name = 'span.css-57kn72'\n",
    "# css_price = 'span[data-at=\"price\"]'\n",
    "# css_loves = 'span[data-at=\"product_love_count\"]'\n",
    "\n",
    "css_name  = 'span.css-1pgnl76.css-1pgnl76'\n",
    "css_brand = 'a.css-nc375s.e65zztl0'\n",
    "css_price = 'span.css-1lzahen'\n",
    "css_loves = 'span.css-1ac1x0l.eanm77i0'\n",
    "\n",
    "name  = driver.find_element_by_css_selector(css_name).text\n",
    "brand = driver.find_element_by_css_selector(css_brand).text\n",
    "price = driver.find_element_by_css_selector(css_price).text\n",
    "loves = driver.find_element_by_css_selector(css_loves).text\n",
    "\n",
    "print(name, brand, price, loves)"
   ]
  },
  {
   "cell_type": "code",
   "execution_count": 23,
   "metadata": {},
   "outputs": [
    {
     "name": "stdout",
     "output_type": "stream",
     "text": [
      "Product Description: \n",
      "  name = Protini™ Polypeptide Moisturizer,\n",
      "  brand = Drunk Elephant\n"
     ]
    }
   ],
   "source": [
    "product1 = Product(name, brand, price, loves=loves)\n",
    "print(product1)"
   ]
  },
  {
   "cell_type": "code",
   "execution_count": 24,
   "metadata": {},
   "outputs": [
    {
     "ename": "NoSuchElementException",
     "evalue": "Message: no such element: Unable to locate element: {\"method\":\"xpath\",\"selector\":\"//*[@id=\"ratings-reviews\"]/div[2]/div[2]/div[2]/table/tbody/tr[1]/td[3]\"}\n  (Session info: chrome=89.0.4389.90)\n",
     "output_type": "error",
     "traceback": [
      "\u001b[0;31m---------------------------------------------------------------------------\u001b[0m",
      "\u001b[0;31mNoSuchElementException\u001b[0m                    Traceback (most recent call last)",
      "\u001b[0;32m<ipython-input-24-e3d59874ad62>\u001b[0m in \u001b[0;36m<module>\u001b[0;34m\u001b[0m\n\u001b[1;32m     13\u001b[0m \u001b[0;34m\u001b[0m\u001b[0m\n\u001b[1;32m     14\u001b[0m \u001b[0;34m\u001b[0m\u001b[0m\n\u001b[0;32m---> 15\u001b[0;31m \u001b[0mrating\u001b[0m \u001b[0;34m=\u001b[0m \u001b[0;34m{\u001b[0m\u001b[0mk\u001b[0m\u001b[0;34m:\u001b[0m \u001b[0mget_votes\u001b[0m\u001b[0;34m(\u001b[0m\u001b[0mv\u001b[0m\u001b[0;34m)\u001b[0m \u001b[0;32mfor\u001b[0m \u001b[0mk\u001b[0m\u001b[0;34m,\u001b[0m \u001b[0mv\u001b[0m \u001b[0;32min\u001b[0m \u001b[0mrating_dict\u001b[0m\u001b[0;34m.\u001b[0m\u001b[0mitems\u001b[0m\u001b[0;34m(\u001b[0m\u001b[0;34m)\u001b[0m\u001b[0;34m}\u001b[0m\u001b[0;34m\u001b[0m\u001b[0;34m\u001b[0m\u001b[0m\n\u001b[0m\u001b[1;32m     16\u001b[0m \u001b[0mrating\u001b[0m\u001b[0;34m\u001b[0m\u001b[0;34m\u001b[0m\u001b[0m\n",
      "\u001b[0;32m<ipython-input-24-e3d59874ad62>\u001b[0m in \u001b[0;36m<dictcomp>\u001b[0;34m(.0)\u001b[0m\n\u001b[1;32m     13\u001b[0m \u001b[0;34m\u001b[0m\u001b[0m\n\u001b[1;32m     14\u001b[0m \u001b[0;34m\u001b[0m\u001b[0m\n\u001b[0;32m---> 15\u001b[0;31m \u001b[0mrating\u001b[0m \u001b[0;34m=\u001b[0m \u001b[0;34m{\u001b[0m\u001b[0mk\u001b[0m\u001b[0;34m:\u001b[0m \u001b[0mget_votes\u001b[0m\u001b[0;34m(\u001b[0m\u001b[0mv\u001b[0m\u001b[0;34m)\u001b[0m \u001b[0;32mfor\u001b[0m \u001b[0mk\u001b[0m\u001b[0;34m,\u001b[0m \u001b[0mv\u001b[0m \u001b[0;32min\u001b[0m \u001b[0mrating_dict\u001b[0m\u001b[0;34m.\u001b[0m\u001b[0mitems\u001b[0m\u001b[0;34m(\u001b[0m\u001b[0;34m)\u001b[0m\u001b[0;34m}\u001b[0m\u001b[0;34m\u001b[0m\u001b[0;34m\u001b[0m\u001b[0m\n\u001b[0m\u001b[1;32m     16\u001b[0m \u001b[0mrating\u001b[0m\u001b[0;34m\u001b[0m\u001b[0;34m\u001b[0m\u001b[0m\n",
      "\u001b[0;32m<ipython-input-24-e3d59874ad62>\u001b[0m in \u001b[0;36mget_votes\u001b[0;34m(v)\u001b[0m\n\u001b[1;32m     10\u001b[0m \u001b[0;31m#     css_rating = '//*[@id=\"ratings-reviews\"]/div[2]/div[2]/div[2]/table/tbody/tr['+ str(v)+']/td[3]'\u001b[0m\u001b[0;34m\u001b[0m\u001b[0;34m\u001b[0m\u001b[0;34m\u001b[0m\u001b[0m\n\u001b[1;32m     11\u001b[0m     \u001b[0mcss_rating\u001b[0m \u001b[0;34m=\u001b[0m \u001b[0;34m'//*[@id=\"ratings-reviews\"]/div[2]/div[2]/div[2]/table/tbody/tr[1]/td[3]'\u001b[0m\u001b[0;34m\u001b[0m\u001b[0;34m\u001b[0m\u001b[0m\n\u001b[0;32m---> 12\u001b[0;31m     \u001b[0;32mreturn\u001b[0m \u001b[0mint\u001b[0m\u001b[0;34m(\u001b[0m\u001b[0mdriver\u001b[0m\u001b[0;34m.\u001b[0m\u001b[0mfind_element_by_xpath\u001b[0m\u001b[0;34m(\u001b[0m\u001b[0mcss_rating\u001b[0m\u001b[0;34m)\u001b[0m\u001b[0;34m.\u001b[0m\u001b[0mtext\u001b[0m\u001b[0;34m)\u001b[0m\u001b[0;34m\u001b[0m\u001b[0;34m\u001b[0m\u001b[0m\n\u001b[0m\u001b[1;32m     13\u001b[0m \u001b[0;34m\u001b[0m\u001b[0m\n\u001b[1;32m     14\u001b[0m \u001b[0;34m\u001b[0m\u001b[0m\n",
      "\u001b[0;32m/usr/local/lib/python3.8/site-packages/selenium/webdriver/remote/webdriver.py\u001b[0m in \u001b[0;36mfind_element_by_xpath\u001b[0;34m(self, xpath)\u001b[0m\n\u001b[1;32m    392\u001b[0m             \u001b[0melement\u001b[0m \u001b[0;34m=\u001b[0m \u001b[0mdriver\u001b[0m\u001b[0;34m.\u001b[0m\u001b[0mfind_element_by_xpath\u001b[0m\u001b[0;34m(\u001b[0m\u001b[0;34m'//div/td[1]'\u001b[0m\u001b[0;34m)\u001b[0m\u001b[0;34m\u001b[0m\u001b[0;34m\u001b[0m\u001b[0m\n\u001b[1;32m    393\u001b[0m         \"\"\"\n\u001b[0;32m--> 394\u001b[0;31m         \u001b[0;32mreturn\u001b[0m \u001b[0mself\u001b[0m\u001b[0;34m.\u001b[0m\u001b[0mfind_element\u001b[0m\u001b[0;34m(\u001b[0m\u001b[0mby\u001b[0m\u001b[0;34m=\u001b[0m\u001b[0mBy\u001b[0m\u001b[0;34m.\u001b[0m\u001b[0mXPATH\u001b[0m\u001b[0;34m,\u001b[0m \u001b[0mvalue\u001b[0m\u001b[0;34m=\u001b[0m\u001b[0mxpath\u001b[0m\u001b[0;34m)\u001b[0m\u001b[0;34m\u001b[0m\u001b[0;34m\u001b[0m\u001b[0m\n\u001b[0m\u001b[1;32m    395\u001b[0m \u001b[0;34m\u001b[0m\u001b[0m\n\u001b[1;32m    396\u001b[0m     \u001b[0;32mdef\u001b[0m \u001b[0mfind_elements_by_xpath\u001b[0m\u001b[0;34m(\u001b[0m\u001b[0mself\u001b[0m\u001b[0;34m,\u001b[0m \u001b[0mxpath\u001b[0m\u001b[0;34m)\u001b[0m\u001b[0;34m:\u001b[0m\u001b[0;34m\u001b[0m\u001b[0;34m\u001b[0m\u001b[0m\n",
      "\u001b[0;32m/usr/local/lib/python3.8/site-packages/selenium/webdriver/remote/webdriver.py\u001b[0m in \u001b[0;36mfind_element\u001b[0;34m(self, by, value)\u001b[0m\n\u001b[1;32m    974\u001b[0m                 \u001b[0mby\u001b[0m \u001b[0;34m=\u001b[0m \u001b[0mBy\u001b[0m\u001b[0;34m.\u001b[0m\u001b[0mCSS_SELECTOR\u001b[0m\u001b[0;34m\u001b[0m\u001b[0;34m\u001b[0m\u001b[0m\n\u001b[1;32m    975\u001b[0m                 \u001b[0mvalue\u001b[0m \u001b[0;34m=\u001b[0m \u001b[0;34m'[name=\"%s\"]'\u001b[0m \u001b[0;34m%\u001b[0m \u001b[0mvalue\u001b[0m\u001b[0;34m\u001b[0m\u001b[0;34m\u001b[0m\u001b[0m\n\u001b[0;32m--> 976\u001b[0;31m         return self.execute(Command.FIND_ELEMENT, {\n\u001b[0m\u001b[1;32m    977\u001b[0m             \u001b[0;34m'using'\u001b[0m\u001b[0;34m:\u001b[0m \u001b[0mby\u001b[0m\u001b[0;34m,\u001b[0m\u001b[0;34m\u001b[0m\u001b[0;34m\u001b[0m\u001b[0m\n\u001b[1;32m    978\u001b[0m             'value': value})['value']\n",
      "\u001b[0;32m/usr/local/lib/python3.8/site-packages/selenium/webdriver/remote/webdriver.py\u001b[0m in \u001b[0;36mexecute\u001b[0;34m(self, driver_command, params)\u001b[0m\n\u001b[1;32m    319\u001b[0m         \u001b[0mresponse\u001b[0m \u001b[0;34m=\u001b[0m \u001b[0mself\u001b[0m\u001b[0;34m.\u001b[0m\u001b[0mcommand_executor\u001b[0m\u001b[0;34m.\u001b[0m\u001b[0mexecute\u001b[0m\u001b[0;34m(\u001b[0m\u001b[0mdriver_command\u001b[0m\u001b[0;34m,\u001b[0m \u001b[0mparams\u001b[0m\u001b[0;34m)\u001b[0m\u001b[0;34m\u001b[0m\u001b[0;34m\u001b[0m\u001b[0m\n\u001b[1;32m    320\u001b[0m         \u001b[0;32mif\u001b[0m \u001b[0mresponse\u001b[0m\u001b[0;34m:\u001b[0m\u001b[0;34m\u001b[0m\u001b[0;34m\u001b[0m\u001b[0m\n\u001b[0;32m--> 321\u001b[0;31m             \u001b[0mself\u001b[0m\u001b[0;34m.\u001b[0m\u001b[0merror_handler\u001b[0m\u001b[0;34m.\u001b[0m\u001b[0mcheck_response\u001b[0m\u001b[0;34m(\u001b[0m\u001b[0mresponse\u001b[0m\u001b[0;34m)\u001b[0m\u001b[0;34m\u001b[0m\u001b[0;34m\u001b[0m\u001b[0m\n\u001b[0m\u001b[1;32m    322\u001b[0m             response['value'] = self._unwrap_value(\n\u001b[1;32m    323\u001b[0m                 response.get('value', None))\n",
      "\u001b[0;32m/usr/local/lib/python3.8/site-packages/selenium/webdriver/remote/errorhandler.py\u001b[0m in \u001b[0;36mcheck_response\u001b[0;34m(self, response)\u001b[0m\n\u001b[1;32m    240\u001b[0m                 \u001b[0malert_text\u001b[0m \u001b[0;34m=\u001b[0m \u001b[0mvalue\u001b[0m\u001b[0;34m[\u001b[0m\u001b[0;34m'alert'\u001b[0m\u001b[0;34m]\u001b[0m\u001b[0;34m.\u001b[0m\u001b[0mget\u001b[0m\u001b[0;34m(\u001b[0m\u001b[0;34m'text'\u001b[0m\u001b[0;34m)\u001b[0m\u001b[0;34m\u001b[0m\u001b[0;34m\u001b[0m\u001b[0m\n\u001b[1;32m    241\u001b[0m             \u001b[0;32mraise\u001b[0m \u001b[0mexception_class\u001b[0m\u001b[0;34m(\u001b[0m\u001b[0mmessage\u001b[0m\u001b[0;34m,\u001b[0m \u001b[0mscreen\u001b[0m\u001b[0;34m,\u001b[0m \u001b[0mstacktrace\u001b[0m\u001b[0;34m,\u001b[0m \u001b[0malert_text\u001b[0m\u001b[0;34m)\u001b[0m\u001b[0;34m\u001b[0m\u001b[0;34m\u001b[0m\u001b[0m\n\u001b[0;32m--> 242\u001b[0;31m         \u001b[0;32mraise\u001b[0m \u001b[0mexception_class\u001b[0m\u001b[0;34m(\u001b[0m\u001b[0mmessage\u001b[0m\u001b[0;34m,\u001b[0m \u001b[0mscreen\u001b[0m\u001b[0;34m,\u001b[0m \u001b[0mstacktrace\u001b[0m\u001b[0;34m)\u001b[0m\u001b[0;34m\u001b[0m\u001b[0;34m\u001b[0m\u001b[0m\n\u001b[0m\u001b[1;32m    243\u001b[0m \u001b[0;34m\u001b[0m\u001b[0m\n\u001b[1;32m    244\u001b[0m     \u001b[0;32mdef\u001b[0m \u001b[0m_value_or_default\u001b[0m\u001b[0;34m(\u001b[0m\u001b[0mself\u001b[0m\u001b[0;34m,\u001b[0m \u001b[0mobj\u001b[0m\u001b[0;34m,\u001b[0m \u001b[0mkey\u001b[0m\u001b[0;34m,\u001b[0m \u001b[0mdefault\u001b[0m\u001b[0;34m)\u001b[0m\u001b[0;34m:\u001b[0m\u001b[0;34m\u001b[0m\u001b[0;34m\u001b[0m\u001b[0m\n",
      "\u001b[0;31mNoSuchElementException\u001b[0m: Message: no such element: Unable to locate element: {\"method\":\"xpath\",\"selector\":\"//*[@id=\"ratings-reviews\"]/div[2]/div[2]/div[2]/table/tbody/tr[1]/td[3]\"}\n  (Session info: chrome=89.0.4389.90)\n"
     ]
    }
   ],
   "source": [
    "# get rating\n",
    "\n",
    "keys = list(map(str, list(range(5,0,-1))))\n",
    "values = list(range(1,6))\n",
    "rating_dict = dict(zip(keys, values))\n",
    "\n",
    "\n",
    "def get_votes(v):\n",
    "    time.sleep(5)\n",
    "#     css_rating = '//*[@id=\"ratings-reviews\"]/div[2]/div[2]/div[2]/table/tbody/tr['+ str(v)+']/td[3]'\n",
    "    css_rating = '//*[@id=\"ratings-reviews\"]/div[2]/div[2]/div[2]/table/tbody/tr[1]/td[3]'\n",
    "    return int(driver.find_element_by_xpath(css_rating).text)\n",
    "    \n",
    "\n",
    "rating = {k: get_votes(v) for k, v in rating_dict.items()}\n",
    "rating"
   ]
  },
  {
   "cell_type": "code",
   "execution_count": null,
   "metadata": {},
   "outputs": [],
   "source": [
    "# get skin type\n",
    "id_details = 'tabpanel0'\n",
    "details = driver.find_element_by_id(id_details)\n",
    "\n",
    "import re\n",
    "\n",
    "txt = details.text\n",
    "\n",
    "print(txt)\n",
    "\n",
    "x = re.findall(\"(?<=Type).*?(?=Skincare)\", txt)\n",
    "print(x)\n",
    "\n"
   ]
  },
  {
   "cell_type": "code",
   "execution_count": null,
   "metadata": {},
   "outputs": [],
   "source": []
  },
  {
   "cell_type": "code",
   "execution_count": null,
   "metadata": {},
   "outputs": [],
   "source": []
  },
  {
   "cell_type": "code",
   "execution_count": null,
   "metadata": {},
   "outputs": [],
   "source": []
  }
 ],
 "metadata": {
  "kernelspec": {
   "display_name": "Python 3",
   "language": "python",
   "name": "python3"
  },
  "language_info": {
   "codemirror_mode": {
    "name": "ipython",
    "version": 3
   },
   "file_extension": ".py",
   "mimetype": "text/x-python",
   "name": "python",
   "nbconvert_exporter": "python",
   "pygments_lexer": "ipython3",
   "version": "3.8.6"
  }
 },
 "nbformat": 4,
 "nbformat_minor": 4
}
