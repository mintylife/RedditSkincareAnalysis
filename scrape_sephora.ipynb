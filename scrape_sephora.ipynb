{
 "cells": [
  {
   "cell_type": "code",
   "execution_count": 19,
   "metadata": {},
   "outputs": [],
   "source": [
    "#Selenium imports here\n",
    "from selenium import webdriver\n",
    "from selenium.webdriver.common.keys import Keys\n",
    "from selenium.webdriver.support import expected_conditions as EC\n",
    "from selenium.webdriver.common.by import By\n",
    "from selenium.webdriver.support.wait import WebDriverWait\n",
    "\n",
    "\n",
    "#Other imports\n",
    "import os\n",
    "import wget\n",
    "\n",
    "\n",
    "import time"
   ]
  },
  {
   "cell_type": "code",
   "execution_count": 20,
   "metadata": {},
   "outputs": [],
   "source": [
    "# connect the webdriver to our notebook\n",
    "chrome_path = \"/Users/balapan/Downloads/chromedriver\"\n",
    "driver = webdriver.Chrome(executable_path = chrome_path)\n",
    "\n",
    "# get and open the needed webpage \n",
    "driver.get(\"https://www.sephora.com/\")"
   ]
  },
  {
   "cell_type": "code",
   "execution_count": 21,
   "metadata": {},
   "outputs": [
    {
     "name": "stdout",
     "output_type": "stream",
     "text": [
      "hello\n"
     ]
    }
   ],
   "source": [
    "print('hello')"
   ]
  },
  {
   "cell_type": "code",
   "execution_count": 23,
   "metadata": {},
   "outputs": [],
   "source": [
    "# click on the Skincare button after it's been loaded\n",
    "time.sleep(5)\n",
    "xpath = \"/html/body/div[1]/div[1]/header/div[2]/div/a[4]\"\n",
    "skincare = driver.find_element_by_xpath(xpath).click()\n",
    "                                         "
   ]
  },
  {
   "cell_type": "code",
   "execution_count": 24,
   "metadata": {},
   "outputs": [],
   "source": [
    "# close the sign in page by clicking on the cross sign\n",
    "cross = WebDriverWait(driver,10).until(EC.element_to_be_clickable((By.CSS_SELECTOR, \"button[aria-label = 'Continue shopping']\"))).click()\n"
   ]
  },
  {
   "cell_type": "code",
   "execution_count": 25,
   "metadata": {},
   "outputs": [
    {
     "data": {
      "text/plain": [
       "['Moisturizers',\n",
       " 'Cleansers',\n",
       " 'Treatments',\n",
       " 'Eye Care',\n",
       " 'Masks',\n",
       " 'Sun Care',\n",
       " 'Lip Treatments']"
      ]
     },
     "execution_count": 25,
     "metadata": {},
     "output_type": "execute_result"
    }
   ],
   "source": [
    "# choose only the skincare categories that we are interested in \n",
    "tickers = ['Moisturizers', 'Cleansers', 'Treatments', 'Eye Care', 'Masks', 'Sun Care', 'Lip Treatments']\n",
    "\n",
    "# for testing purposes, shorten the list\n",
    "# tickers = tickers[:1]\n",
    "tickers"
   ]
  },
  {
   "cell_type": "code",
   "execution_count": 27,
   "metadata": {},
   "outputs": [],
   "source": [
    "# for ticker in tickers:\n",
    "#     xpath = \"/html/body/div[1]/div[2]/div/div/div/div[1]/div/div/nav/div[7]/a\"\n",
    "#     xpath = \"/html/body/div[1]/div[2]/div/div/div/div[1]/div/div/nav/div[8]/a\"\n",
    "#     class = \"css-10wlsyd e65zztl0\""
   ]
  },
  {
   "cell_type": "code",
   "execution_count": 28,
   "metadata": {},
   "outputs": [
    {
     "data": {
      "text/plain": [
       "['Just Arrived',\n",
       " 'Value & Gift Sets',\n",
       " 'Mini Size',\n",
       " 'Clean Skincare',\n",
       " 'Shop by Concern',\n",
       " 'Moisturizers',\n",
       " 'Cleansers',\n",
       " 'Treatments',\n",
       " 'Wellness',\n",
       " 'Eye Care',\n",
       " 'Masks',\n",
       " 'High Tech Tools',\n",
       " 'Sun Care',\n",
       " 'Self Tanners',\n",
       " 'Lip Treatments',\n",
       " 'Vegan Skincare']"
      ]
     },
     "execution_count": 28,
     "metadata": {},
     "output_type": "execute_result"
    }
   ],
   "source": [
    "# all categories we are interested in are in the same css class\n",
    "# use the class name to locate and save the class objects\n",
    "category_class = \"css-10wlsyd.e65zztl0\"\n",
    "class_objects = driver.find_elements_by_class_name(category_class)\n",
    "\n",
    "# check that we collected the right headers\n",
    "class_text = [c.text for c in class_objects]\n",
    "class_text"
   ]
  },
  {
   "cell_type": "code",
   "execution_count": 29,
   "metadata": {},
   "outputs": [
    {
     "name": "stdout",
     "output_type": "stream",
     "text": [
      "Moisturizers\n",
      "Cleansers\n",
      "Treatments\n",
      "Eye Care\n",
      "Masks\n",
      "Sun Care\n",
      "Lip Treatments\n"
     ]
    }
   ],
   "source": [
    "# only choose the ones that we are interested in \n",
    "categories = [x for x in class_objects if x.text in tickers]\n",
    "links = []\n",
    "\n",
    "# check their names and compare to the tickers list\n",
    "for m in categories:\n",
    "    print(m.text)"
   ]
  },
  {
   "cell_type": "code",
   "execution_count": 32,
   "metadata": {},
   "outputs": [],
   "source": [
    "categories[0].click()"
   ]
  },
  {
   "cell_type": "code",
   "execution_count": 36,
   "metadata": {},
   "outputs": [
    {
     "data": {
      "text/plain": [
       "[<selenium.webdriver.remote.webelement.WebElement (session=\"98dab7a8d0ad92771e92a01904bbf534\", element=\"b5c22a6c-ba32-4a11-a9b6-660afc48703e\")>,\n",
       " <selenium.webdriver.remote.webelement.WebElement (session=\"98dab7a8d0ad92771e92a01904bbf534\", element=\"b980833e-44b5-4841-9920-7d2a6f22eaf3\")>,\n",
       " <selenium.webdriver.remote.webelement.WebElement (session=\"98dab7a8d0ad92771e92a01904bbf534\", element=\"7f574d2f-bc80-45b1-b8bc-e0151943ec03\")>,\n",
       " <selenium.webdriver.remote.webelement.WebElement (session=\"98dab7a8d0ad92771e92a01904bbf534\", element=\"e4b20044-0d7b-4230-9667-5316af5407c9\")>,\n",
       " <selenium.webdriver.remote.webelement.WebElement (session=\"98dab7a8d0ad92771e92a01904bbf534\", element=\"f609c88f-556b-4ae4-b698-93d7b519f81f\")>,\n",
       " <selenium.webdriver.remote.webelement.WebElement (session=\"98dab7a8d0ad92771e92a01904bbf534\", element=\"5a1c9a9b-e84b-43ea-b7e7-70101d154958\")>,\n",
       " <selenium.webdriver.remote.webelement.WebElement (session=\"98dab7a8d0ad92771e92a01904bbf534\", element=\"08a7e4ea-6e61-4e33-b319-11836d4ae8c0\")>,\n",
       " <selenium.webdriver.remote.webelement.WebElement (session=\"98dab7a8d0ad92771e92a01904bbf534\", element=\"147fd5e8-2c99-457e-ba0a-94937fdb6e3c\")>,\n",
       " <selenium.webdriver.remote.webelement.WebElement (session=\"98dab7a8d0ad92771e92a01904bbf534\", element=\"f4a25618-0c8e-46f7-b7d7-31b7f50710f3\")>,\n",
       " <selenium.webdriver.remote.webelement.WebElement (session=\"98dab7a8d0ad92771e92a01904bbf534\", element=\"17ac906e-aaae-44f5-b8f9-409ffedb3b78\")>,\n",
       " <selenium.webdriver.remote.webelement.WebElement (session=\"98dab7a8d0ad92771e92a01904bbf534\", element=\"1ca4600e-3aa9-4b27-8d78-8f1be108cb3d\")>,\n",
       " <selenium.webdriver.remote.webelement.WebElement (session=\"98dab7a8d0ad92771e92a01904bbf534\", element=\"d3c8a7b1-a6bd-48db-9a93-42215ee9a833\")>]"
      ]
     },
     "execution_count": 36,
     "metadata": {},
     "output_type": "execute_result"
    }
   ],
   "source": [
    "image_class = \"css-1rovmyu.e65zztl0\"\n",
    "\n",
    "# products = [x for x in products if x.text in tickers]\n",
    "# links = []\n",
    "\n",
    "products = driver.find_elements_by_class_name(image_class)\n",
    "products"
   ]
  },
  {
   "cell_type": "code",
   "execution_count": 39,
   "metadata": {},
   "outputs": [],
   "source": [
    "products[0].click()"
   ]
  },
  {
   "cell_type": "code",
   "execution_count": 41,
   "metadata": {},
   "outputs": [],
   "source": [
    "class Product:\n",
    "    \n",
    "  def __init__(this, required name, price, rating, loves, skin_type, concerns, ingredients):\n",
    "    this.name = name\n",
    "    this.price = price\n",
    "    this.rating = rating\n",
    "    this.loves = loves\n",
    "    this.skin_type = skin_type\n",
    "    this.concerns = concerns\n",
    "    this.ingredients = ingredients\n",
    "    "
   ]
  },
  {
   "cell_type": "code",
   "execution_count": 90,
   "metadata": {},
   "outputs": [
    {
     "data": {
      "text/plain": [
       "'2804'"
      ]
     },
     "execution_count": 90,
     "metadata": {},
     "output_type": "execute_result"
    }
   ],
   "source": [
    "# get price \n",
    "css_name = 'span.css-57kn72'\n",
    "css_price = 'span[data-at=\"price\"]'\n",
    "css_loves = 'span[data-at=\"product_love_count\"]'\n",
    "\n",
    "name = driver.find_element_by_css_selector(css_name).text\n",
    "price = driver.find_element_by_css_selector(css_price).text\n",
    "loves = driver.find_element_by_css_selector(css_loves).text\n",
    "\n"
   ]
  },
  {
   "cell_type": "code",
   "execution_count": 132,
   "metadata": {},
   "outputs": [
    {
     "data": {
      "text/plain": [
       "{'5': 2804, '4': 625, '3': 474, '2': 457, '1': 549}"
      ]
     },
     "execution_count": 132,
     "metadata": {},
     "output_type": "execute_result"
    }
   ],
   "source": [
    "keys = list(map(str, list(range(5,0,-1))))\n",
    "values = list(range(1,6))\n",
    "rating = dict(zip(keys, values))\n",
    "\n",
    "\n",
    "def get_votes(v):\n",
    "    css_rating = '//*[@id=\"ratings-reviews\"]/div[2]/div[2]/div[2]/table/tbody/tr['+ str(v)+']/td[3]'\n",
    "    return int(driver.find_element_by_xpath(css_rating).text)\n",
    "\n",
    "rating = {k: get_votes(v) for k, v in rating_dict.items()}\n",
    "rating"
   ]
  },
  {
   "cell_type": "code",
   "execution_count": 130,
   "metadata": {},
   "outputs": [
    {
     "ename": "NameError",
     "evalue": "name 'f' is not defined",
     "output_type": "error",
     "traceback": [
      "\u001b[0;31m---------------------------------------------------------------------------\u001b[0m",
      "\u001b[0;31mNameError\u001b[0m                                 Traceback (most recent call last)",
      "\u001b[0;32m<ipython-input-130-d5ccaefa3a2d>\u001b[0m in \u001b[0;36m<module>\u001b[0;34m\u001b[0m\n\u001b[0;32m----> 1\u001b[0;31m \u001b[0mmy_dictionary\u001b[0m \u001b[0;34m=\u001b[0m \u001b[0;34m{\u001b[0m\u001b[0mk\u001b[0m\u001b[0;34m:\u001b[0m \u001b[0mf\u001b[0m\u001b[0;34m(\u001b[0m\u001b[0mv\u001b[0m\u001b[0;34m)\u001b[0m \u001b[0;32mfor\u001b[0m \u001b[0mk\u001b[0m\u001b[0;34m,\u001b[0m \u001b[0mv\u001b[0m \u001b[0;32min\u001b[0m \u001b[0mmy_dictionary\u001b[0m\u001b[0;34m.\u001b[0m\u001b[0mitems\u001b[0m\u001b[0;34m(\u001b[0m\u001b[0;34m)\u001b[0m\u001b[0;34m}\u001b[0m\u001b[0;34m\u001b[0m\u001b[0;34m\u001b[0m\u001b[0m\n\u001b[0m",
      "\u001b[0;32m<ipython-input-130-d5ccaefa3a2d>\u001b[0m in \u001b[0;36m<dictcomp>\u001b[0;34m(.0)\u001b[0m\n\u001b[0;32m----> 1\u001b[0;31m \u001b[0mmy_dictionary\u001b[0m \u001b[0;34m=\u001b[0m \u001b[0;34m{\u001b[0m\u001b[0mk\u001b[0m\u001b[0;34m:\u001b[0m \u001b[0mf\u001b[0m\u001b[0;34m(\u001b[0m\u001b[0mv\u001b[0m\u001b[0;34m)\u001b[0m \u001b[0;32mfor\u001b[0m \u001b[0mk\u001b[0m\u001b[0;34m,\u001b[0m \u001b[0mv\u001b[0m \u001b[0;32min\u001b[0m \u001b[0mmy_dictionary\u001b[0m\u001b[0;34m.\u001b[0m\u001b[0mitems\u001b[0m\u001b[0;34m(\u001b[0m\u001b[0;34m)\u001b[0m\u001b[0;34m}\u001b[0m\u001b[0;34m\u001b[0m\u001b[0;34m\u001b[0m\u001b[0m\n\u001b[0m",
      "\u001b[0;31mNameError\u001b[0m: name 'f' is not defined"
     ]
    }
   ],
   "source": []
  },
  {
   "cell_type": "code",
   "execution_count": null,
   "metadata": {},
   "outputs": [],
   "source": []
  }
 ],
 "metadata": {
  "kernelspec": {
   "display_name": "Python 3",
   "language": "python",
   "name": "python3"
  },
  "language_info": {
   "codemirror_mode": {
    "name": "ipython",
    "version": 3
   },
   "file_extension": ".py",
   "mimetype": "text/x-python",
   "name": "python",
   "nbconvert_exporter": "python",
   "pygments_lexer": "ipython3",
   "version": "3.8.6"
  }
 },
 "nbformat": 4,
 "nbformat_minor": 4
}
