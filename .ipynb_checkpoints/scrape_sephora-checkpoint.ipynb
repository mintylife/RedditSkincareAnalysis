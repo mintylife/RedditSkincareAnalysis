{
 "cells": [
  {
   "cell_type": "code",
   "execution_count": 13,
   "metadata": {},
   "outputs": [],
   "source": [
    "#Selenium imports here\n",
    "from selenium import webdriver\n",
    "from selenium.webdriver.common.keys import Keys\n",
    "from selenium.webdriver.support import expected_conditions as EC\n",
    "from selenium.webdriver.common.by import By\n",
    "from selenium.webdriver.support.wait import WebDriverWait\n",
    "from selenium.webdriver.common.action_chains import ActionChains\n",
    "\n",
    "\n",
    "#Other imports\n",
    "import os\n",
    "import wget\n",
    "\n",
    "\n",
    "import time"
   ]
  },
  {
   "cell_type": "code",
   "execution_count": 14,
   "metadata": {},
   "outputs": [],
   "source": [
    "# connect the webdriver to our notebook\n",
    "chrome_path = \"/Users/balapan/Downloads/chromedriver\"\n",
    "driver = webdriver.Chrome(executable_path = chrome_path)\n",
    "\n",
    "# get and open the needed webpage \n",
    "driver.get(\"https://www.sephora.com/\")"
   ]
  },
  {
   "cell_type": "code",
   "execution_count": 15,
   "metadata": {},
   "outputs": [],
   "source": [
    "# sephora's website layout of the navigation bar changes depending on the size of the window\n",
    "try:\n",
    "    # if in the full screen mode\n",
    "    skincare = WebDriverWait(driver,10).until(EC.element_to_be_clickable((By.CSS_SELECTOR, \"a[id = 'top_nav_drop_3_trigger']\"))).click()\n",
    "    all_skincare = driver.find_element_by_xpath('//*[@id=\"top_nav_drop_3_trigger\"]')\n",
    "    all_skincare.click()\n",
    "except:\n",
    "    # if the screen is small\n",
    "    time.sleep(5)\n",
    "    xpath = \"/html/body/div[1]/div[1]/header/div[3]/div/a[4]\"\n",
    "    all_skincare = driver.find_element_by_xpath(xpath)\n",
    "    all_skincare.click()\n",
    "# finally:\n",
    "#     all_skincare.click()"
   ]
  },
  {
   "cell_type": "code",
   "execution_count": 16,
   "metadata": {},
   "outputs": [],
   "source": [
    "# close the sign in page by clicking on the cross sign\n",
    "cross = WebDriverWait(driver,10).until(EC.element_to_be_clickable((By.CSS_SELECTOR, \"button[aria-label = 'Continue shopping']\"))).click()\n"
   ]
  },
  {
   "cell_type": "code",
   "execution_count": 17,
   "metadata": {},
   "outputs": [
    {
     "data": {
      "text/plain": [
       "['Moisturizers',\n",
       " 'Cleansers',\n",
       " 'Treatments',\n",
       " 'Eye Care',\n",
       " 'Masks',\n",
       " 'Sun Care',\n",
       " 'Lip Treatments']"
      ]
     },
     "execution_count": 17,
     "metadata": {},
     "output_type": "execute_result"
    }
   ],
   "source": [
    "# choose only the skincare categories that we are interested in \n",
    "tickers = ['Moisturizers', 'Cleansers', 'Treatments', 'Eye Care', 'Masks', 'Sun Care', 'Lip Treatments']\n",
    "\n",
    "# for testing purposes, shorten the list\n",
    "# tickers = tickers[:1]\n",
    "tickers"
   ]
  },
  {
   "cell_type": "code",
   "execution_count": 18,
   "metadata": {},
   "outputs": [],
   "source": [
    "# for ticker in tickers:\n",
    "#     xpath = \"/html/body/div[1]/div[2]/div/div/div/div[1]/div/div/nav/div[7]/a\"\n",
    "#     xpath = \"/html/body/div[1]/div[2]/div/div/div/div[1]/div/div/nav/div[8]/a\"\n",
    "#     class = \"css-10wlsyd e65zztl0\""
   ]
  },
  {
   "cell_type": "code",
   "execution_count": 19,
   "metadata": {},
   "outputs": [
    {
     "data": {
      "text/plain": [
       "['Just Arrived',\n",
       " 'Value & Gift Sets',\n",
       " 'Mini Size',\n",
       " 'Clean Skincare',\n",
       " 'Shop by Concern',\n",
       " 'Moisturizers',\n",
       " 'Cleansers',\n",
       " 'Treatments',\n",
       " 'Wellness',\n",
       " 'Eye Care',\n",
       " 'Masks',\n",
       " 'High Tech Tools',\n",
       " 'Sun Care',\n",
       " 'Self Tanners',\n",
       " 'Lip Treatments',\n",
       " 'Vegan Skincare']"
      ]
     },
     "execution_count": 19,
     "metadata": {},
     "output_type": "execute_result"
    }
   ],
   "source": [
    "# all categories we are interested in are in the same css class\n",
    "# use the class name to locate and save the class objects\n",
    "category_class = \"css-10wlsyd.e65zztl0\"\n",
    "class_objects = driver.find_elements_by_class_name(category_class)\n",
    "\n",
    "# check that we collected the right headers\n",
    "class_text = [c.text for c in class_objects]\n",
    "class_text"
   ]
  },
  {
   "cell_type": "code",
   "execution_count": 22,
   "metadata": {},
   "outputs": [
    {
     "name": "stdout",
     "output_type": "stream",
     "text": [
      "Moisturizers\n",
      "Cleansers\n",
      "Treatments\n",
      "Eye Care\n",
      "Masks\n",
      "Sun Care\n",
      "Lip Treatments\n"
     ]
    }
   ],
   "source": [
    "# only choose the ones that we are interested in \n",
    "categories = [x for x in class_objects if x.text in tickers]\n",
    "links = []\n",
    "\n",
    "# check their names and compare to the tickers list\n",
    "for m in categories:\n",
    "    print(m.text)"
   ]
  },
  {
   "cell_type": "code",
   "execution_count": null,
   "metadata": {},
   "outputs": [],
   "source": [
    "# показ уведомлений хрома сбивает работу"
   ]
  },
  {
   "cell_type": "code",
   "execution_count": 23,
   "metadata": {},
   "outputs": [],
   "source": [
    "categories[0].click()"
   ]
  },
  {
   "cell_type": "code",
   "execution_count": 25,
   "metadata": {},
   "outputs": [
    {
     "data": {
      "text/plain": [
       "[<selenium.webdriver.remote.webelement.WebElement (session=\"99c42e6d5a518fd74597b3483d909ce0\", element=\"ac94ef22-e152-41f3-80d3-e10aef6f5768\")>,\n",
       " <selenium.webdriver.remote.webelement.WebElement (session=\"99c42e6d5a518fd74597b3483d909ce0\", element=\"6a0beb88-ded0-4c97-8d05-27ea59a485d6\")>,\n",
       " <selenium.webdriver.remote.webelement.WebElement (session=\"99c42e6d5a518fd74597b3483d909ce0\", element=\"c9dcbff6-4617-4c54-87fe-822c1e4ee151\")>,\n",
       " <selenium.webdriver.remote.webelement.WebElement (session=\"99c42e6d5a518fd74597b3483d909ce0\", element=\"5a788960-f18f-4baf-babf-07ac6f1c5e19\")>,\n",
       " <selenium.webdriver.remote.webelement.WebElement (session=\"99c42e6d5a518fd74597b3483d909ce0\", element=\"9c861754-e057-402e-a302-5d218e5157f9\")>,\n",
       " <selenium.webdriver.remote.webelement.WebElement (session=\"99c42e6d5a518fd74597b3483d909ce0\", element=\"5d91717f-ce7a-45cb-b42f-d4effe7c4ced\")>,\n",
       " <selenium.webdriver.remote.webelement.WebElement (session=\"99c42e6d5a518fd74597b3483d909ce0\", element=\"16655410-df46-455b-9be8-c65aee07a0e6\")>,\n",
       " <selenium.webdriver.remote.webelement.WebElement (session=\"99c42e6d5a518fd74597b3483d909ce0\", element=\"041ff73a-cdce-4934-9f53-ea3553fceba2\")>,\n",
       " <selenium.webdriver.remote.webelement.WebElement (session=\"99c42e6d5a518fd74597b3483d909ce0\", element=\"558ca8ec-8571-453b-b146-6a1e89de5703\")>,\n",
       " <selenium.webdriver.remote.webelement.WebElement (session=\"99c42e6d5a518fd74597b3483d909ce0\", element=\"abbc4506-d836-4eba-9e90-c3390b136ff4\")>,\n",
       " <selenium.webdriver.remote.webelement.WebElement (session=\"99c42e6d5a518fd74597b3483d909ce0\", element=\"0a5841d3-a533-403e-a8b0-bc20a093a10d\")>,\n",
       " <selenium.webdriver.remote.webelement.WebElement (session=\"99c42e6d5a518fd74597b3483d909ce0\", element=\"e069d009-c3dc-436d-846a-351def3e9cd6\")>]"
      ]
     },
     "execution_count": 25,
     "metadata": {},
     "output_type": "execute_result"
    }
   ],
   "source": [
    "# collect some products on the page\n",
    "image_class = \"css-1rovmyu.e65zztl0\"\n",
    "\n",
    "# products = [x for x in products if x.text in tickers]\n",
    "# links = []\n",
    "\n",
    "products = driver.find_elements_by_class_name(image_class)\n",
    "products"
   ]
  },
  {
   "cell_type": "code",
   "execution_count": 26,
   "metadata": {},
   "outputs": [
    {
     "data": {
      "text/plain": [
       "12"
      ]
     },
     "execution_count": 26,
     "metadata": {},
     "output_type": "execute_result"
    }
   ],
   "source": [
    "len(products)"
   ]
  },
  {
   "cell_type": "code",
   "execution_count": 27,
   "metadata": {},
   "outputs": [],
   "source": [
    "products[0].click()"
   ]
  },
  {
   "cell_type": "code",
   "execution_count": 28,
   "metadata": {},
   "outputs": [],
   "source": [
    "class Product:\n",
    "    \n",
    "  def __init__(this, name, brand, \n",
    "               price=0 , rating=None, loves=None, \n",
    "               skin_type=None, concerns=None, ingredients=None):\n",
    "    this.name = name\n",
    "    this.brand = brand\n",
    "    this.price = price\n",
    "    this.rating = rating\n",
    "    this.loves = loves\n",
    "    this.skin_type = skin_type\n",
    "    this.concerns = concerns\n",
    "    this.ingredients = ingredients\n",
    "    \n",
    "  def __str__(self):  \n",
    "    return \"Product Description: \\n  name = % s,\\n  brand = % s\" % (self.name, self.brand)  \n",
    "    \n",
    "\n",
    "\n",
    "    "
   ]
  },
  {
   "cell_type": "code",
   "execution_count": 29,
   "metadata": {},
   "outputs": [
    {
     "name": "stdout",
     "output_type": "stream",
     "text": [
      "Protini™ Polypeptide Moisturizer Drunk Elephant $68.00 4.0\n"
     ]
    }
   ],
   "source": [
    "# get name, price and number of loves for a product\n",
    "# css_name = 'span.css-57kn72'\n",
    "# css_price = 'span[data-at=\"price\"]'\n",
    "# css_loves = 'span[data-at=\"product_love_count\"]'\n",
    "\n",
    "css_name  = 'span.css-1pgnl76.css-1pgnl76'\n",
    "css_brand = 'a.css-nc375s.e65zztl0'\n",
    "css_price = 'span.css-1lzahen'\n",
    "css_loves = 'span.css-1ac1x0l.eanm77i0'\n",
    "\n",
    "name  = driver.find_element_by_css_selector(css_name).text\n",
    "brand = driver.find_element_by_css_selector(css_brand).text\n",
    "price = driver.find_element_by_css_selector(css_price).text\n",
    "loves = driver.find_element_by_css_selector(css_loves).text\n",
    "\n",
    "print(name, brand, price, loves)"
   ]
  },
  {
   "cell_type": "code",
   "execution_count": 30,
   "metadata": {},
   "outputs": [
    {
     "name": "stdout",
     "output_type": "stream",
     "text": [
      "Product Description: \n",
      "  name = Protini™ Polypeptide Moisturizer,\n",
      "  brand = Drunk Elephant\n"
     ]
    }
   ],
   "source": [
    "product1 = Product(name, brand, price, loves=loves)\n",
    "print(product1)"
   ]
  },
  {
   "cell_type": "code",
   "execution_count": 31,
   "metadata": {},
   "outputs": [],
   "source": [
    "# # get rating\n",
    "\n",
    "# keys = list(map(str, list(range(5,0,-1))))\n",
    "# values = list(range(1,6))\n",
    "# rating_dict = dict(zip(keys, values))\n",
    "\n",
    "\n",
    "# def get_votes(v):\n",
    "#     time.sleep(5)\n",
    "# #     css_rating = '//*[@id=\"ratings-reviews\"]/div[2]/div[2]/div[2]/table/tbody/tr['+ str(v)+']/td[3]'\n",
    "#     css_rating = '//*[@id=\"ratings-reviews\"]/div[2]/div[2]/div[2]/table/tbody/tr[1]/td[3]'\n",
    "#     return int(driver.find_element_by_xpath(css_rating).text)\n",
    "    \n",
    "\n",
    "# rating = {k: get_votes(v) for k, v in rating_dict.items()}\n",
    "# rating"
   ]
  },
  {
   "cell_type": "code",
   "execution_count": 33,
   "metadata": {},
   "outputs": [
    {
     "name": "stdout",
     "output_type": "stream",
     "text": [
      "4.0 5193.0\n"
     ]
    }
   ],
   "source": [
    "def extract_number(string):\n",
    "    number = ''\n",
    "    for char in string:\n",
    "        if char.isdigit():\n",
    "            number+=(char)\n",
    "    return float(number)\n",
    "\n",
    "\n",
    "# get the overall rating/score \n",
    "css_rating = '//*[@id=\"ratings-reviews-container\"]/div[2]/div[2]/div[1]/div/div[2]/div/span'\n",
    "total_score = float(driver.find_element_by_xpath(css_rating).text)\n",
    "\n",
    "# get total number of reviews \n",
    "css_review_count = '//*[@id=\"ratings-reviews-container\"]/div[2]/div[2]/div[1]/div/div[2]/span'\n",
    "total_reviews_count = driver.find_element_by_xpath(css_review_count).text\n",
    "total_reviews_count = extract_number(total_reviews_count)\n",
    "\n",
    "\n",
    "print(total_score, total_reviews_count)"
   ]
  },
  {
   "cell_type": "code",
   "execution_count": 46,
   "metadata": {},
   "outputs": [
    {
     "name": "stdout",
     "output_type": "stream",
     "text": [
      "Extracted full info\n",
      "\n",
      "Good for: Loss of firmness\n",
      "Good for: Dullness/Uneven Texture\n",
      "Good for: Anti-Aging\n",
      "Good for: Dryness\n",
      "Clean at Sephora\n",
      "Community Favorite\n",
      "\n",
      "Highlights only\n",
      "\n",
      "[' Loss of firmness', ' Dullness/Uneven Texture', ' Anti-Aging', ' Dryness']\n"
     ]
    }
   ],
   "source": [
    "import re\n",
    "def extract_highlights(highlights):\n",
    "    start = 'Good for:'\n",
    "    end = '\\n'\n",
    "\n",
    "    result = re.findall('%s(.*)%s' % (start, end), highlights)\n",
    "    print(result)\n",
    "\n",
    "# get highlights - info from the good for section\n",
    "good_for = []\n",
    "css_highlights = '/html/body/div[1]/div[2]/div/main/div/div[3]'\n",
    "highlights = driver.find_element_by_xpath(css_highlights).text\n",
    "\n",
    "print('Extracted full info\\n')\n",
    "print(highlights)\n",
    "\n",
    "print('\\nHighlights only\\n')\n",
    "good_for = extract_highlights(highlights)\n",
    "good_for\n",
    "\n"
   ]
  },
  {
   "cell_type": "code",
   "execution_count": null,
   "metadata": {},
   "outputs": [],
   "source": [
    "# # get skin type\n",
    "# id_details = 'tabpanel0'\n",
    "# details = driver.find_element_by_id(id_details)\n",
    "\n",
    "# import re\n",
    "\n",
    "# txt = details.text\n",
    "\n",
    "# print(txt)\n",
    "\n",
    "# x = re.findall(\"(?<=Type).*?(?=Skincare)\", txt)\n",
    "# print(x)\n",
    "\n"
   ]
  },
  {
   "cell_type": "code",
   "execution_count": 80,
   "metadata": {},
   "outputs": [
    {
     "name": "stdout",
     "output_type": "stream",
     "text": [
      " Dryness, Dullness and Uneven Texture, and Loss of Firmness and Elasticity\n",
      " Dryness, Dullness,Uneven Texture,,Loss of Firmness,Elasticity\n",
      "[' Dryness', ' Dullness', 'Uneven Texture', '', 'Loss of Firmness', 'Elasticity']\n"
     ]
    }
   ],
   "source": [
    "# css_about_product = '/html/body/div[1]/div[2]/div/main/div/div[5]/div[2]/div'\n",
    "# about_product = driver.find_element_by_xpath(css_about_product).text\n",
    "\n",
    "\n",
    "# def extract_skin_type(about):\n",
    "#     start = 'Skincare Concerns:'\n",
    "#     end = '\\n'\n",
    "    \n",
    "#     result = re.findall('%s(.*)%s' % (start, end), about)[0]\n",
    "    \n",
    "#     print(result)\n",
    "#     result = result.replace(' and ', ',')\n",
    "#     print(result)\n",
    "#     result = result.split(',')\n",
    "#     print(result)\n",
    "    \n",
    "# extract_skin_type(about_product)"
   ]
  },
  {
   "cell_type": "code",
   "execution_count": 105,
   "metadata": {},
   "outputs": [
    {
     "data": {
      "text/plain": [
       "['Normal', 'Dry', 'Combination', 'Oily']"
      ]
     },
     "execution_count": 105,
     "metadata": {},
     "output_type": "execute_result"
    }
   ],
   "source": [
    "css_about_product = '/html/body/div[1]/div[2]/div/main/div/div[5]/div[2]/div'\n",
    "about_product = driver.find_element_by_xpath(css_about_product).text\n",
    "\n",
    "\n",
    "def extract_skin_type(about):\n",
    "    start = 'Skin Type: '\n",
    "    end = '\\n'\n",
    "    \n",
    "    result = re.findall('%s(.*)%s' % (start, end), about)[0]\n",
    "    result = (result.replace(' and ', ',')).split(',')\n",
    "    skin_types = list(filter(None, result))\n",
    "    skin_types = [st.strip() for st in skin_types]\n",
    "    return skin_types\n",
    "    \n",
    "    \n",
    "skin_types = extract_skin_type(about_product)\n",
    "skin_types"
   ]
  },
  {
   "cell_type": "code",
   "execution_count": 152,
   "metadata": {},
   "outputs": [
    {
     "name": "stdout",
     "output_type": "stream",
     "text": [
      "True True False False\n"
     ]
    }
   ],
   "source": [
    "\n",
    "\n",
    "def extract_eco_info(about):\n",
    "    global recyclable_packaging, cruelty_free, vegan, no_parabens\n",
    "    start = 'Ingredient Callouts: '\n",
    "    end = '\\n'\n",
    "    result = (re.findall('%s(.*)%s' % (start, end), about)[0]).lower()\n",
    "    \n",
    "    if 'recyclable' in result:\n",
    "        recyclable_packaging = True\n",
    "    \n",
    "    if 'vegan' in result:\n",
    "        vegan = True \n",
    "        \n",
    "    if 'cruelty-free' in result:\n",
    "        cruelty_free = True\n",
    "    \n",
    "    if 'parabens' in result:\n",
    "        no_parabens = True\n",
    "        \n",
    "    print(vegan,cruelty_free,recyclable_packaging, no_parabens)\n",
    "    \n",
    "vegan = False\n",
    "cruelty_free = False\n",
    "recyclable_packaging = False\n",
    "no_parabens = False\n",
    "\n",
    "extract_eco_info(about_product)\n"
   ]
  },
  {
   "cell_type": "code",
   "execution_count": 149,
   "metadata": {},
   "outputs": [],
   "source": [
    "# get all ingredients and high ingredients"
   ]
  },
  {
   "cell_type": "code",
   "execution_count": null,
   "metadata": {},
   "outputs": [],
   "source": []
  }
 ],
 "metadata": {
  "kernelspec": {
   "display_name": "Python 3",
   "language": "python",
   "name": "python3"
  },
  "language_info": {
   "codemirror_mode": {
    "name": "ipython",
    "version": 3
   },
   "file_extension": ".py",
   "mimetype": "text/x-python",
   "name": "python",
   "nbconvert_exporter": "python",
   "pygments_lexer": "ipython3",
   "version": "3.8.6"
  }
 },
 "nbformat": 4,
 "nbformat_minor": 4
}
